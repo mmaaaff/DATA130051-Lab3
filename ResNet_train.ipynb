{
 "cells": [
  {
   "cell_type": "markdown",
   "metadata": {},
   "source": [
    "## Read dataset"
   ]
  },
  {
   "cell_type": "code",
   "execution_count": 1,
   "metadata": {},
   "outputs": [
    {
     "name": "stdout",
     "output_type": "stream",
     "text": [
      "dict_keys(['filenames', 'batch_label', 'fine_labels', 'coarse_labels', 'data'])\n"
     ]
    }
   ],
   "source": [
    "# -----------------Have a look at the CIFAR-10 dataset-----------------\n",
    "def unpickle(file):\n",
    "    import pickle\n",
    "    with open(file, 'rb') as fo:\n",
    "        dict = pickle.load(fo, encoding='latin1')\n",
    "    return dict\n",
    "\n",
    "data = unpickle('data/unpacked/train')\n",
    "print(data.keys())\n",
    "\n"
   ]
  },
  {
   "cell_type": "code",
   "execution_count": 2,
   "metadata": {},
   "outputs": [
    {
     "name": "stdout",
     "output_type": "stream",
     "text": [
      "device: cuda:1\n",
      "Files already downloaded and verified\n",
      "Files already downloaded and verified\n",
      "<torch.utils.data.dataloader.DataLoader object at 0x7f10235c4670> <torch.utils.data.dataloader.DataLoader object at 0x7f10235c4760>\n"
     ]
    }
   ],
   "source": [
    "# ------------------Load data with data augmentation-------------------\n",
    "import torch\n",
    "import torchvision\n",
    "import torchvision.transforms as transforms\n",
    "from torchvision.transforms import v2\n",
    "from torch.utils.data import default_collate\n",
    "import torch.nn.functional as F\n",
    "import numpy as np\n",
    "import os\n",
    "\n",
    "# os.environ[\"CUDA_DEVICE_ORDER\"]=\"PCI_BUS_ID\"\n",
    "# os.environ[\"CUDA_VISIBLE_DEVICES\"]=\"2,3,4\"\n",
    "\n",
    "device = torch.device('cuda:1' if torch.cuda.is_available() else 'cpu')\n",
    "torch.set_default_device(device)\n",
    "print(f\"device: {device}\")\n",
    "\n",
    "CIFAR_PATH = \"data\"\n",
    "num_coarse_classes = 20\n",
    "num_fine_classes = 100\n",
    "\n",
    "# Calculated mean and standard deviation of image channels for normalization\n",
    "mean = [0.5070751592371323, 0.48654887331495095, 0.4409178433670343]\n",
    "std = [0.2673342858792401, 0.2564384629170883, 0.27615047132568404]\n",
    "\n",
    "# Number of worker threads used for loading data\n",
    "num_workers = 0\n",
    "\n",
    "# CutMix augmentation\n",
    "cutmix = v2.CutMix(num_classes=100)\n",
    "\n",
    "# Define a custom collate function to apply CutMix\n",
    "def collate_fn(batch):\n",
    "    try:\n",
    "        return cutmix(*default_collate(batch))\n",
    "    except Exception as e:\n",
    "        print(f\"Error in collate_fn: {e}\")\n",
    "        raise e\n",
    "\n",
    "# Function to load the CIFAR-100 dataset\n",
    "def cifar100_dataset(batchsize):\n",
    "    # Define the data transformation for training data\n",
    "    transform_train = transforms.Compose([\n",
    "        transforms.RandomCrop(32, padding=4),  # Randomly crop the image with padding\n",
    "        transforms.RandomHorizontalFlip(),  # Randomly flip the image horizontally\n",
    "        transforms.RandomRotation(15),  # Randomly rotate the image\n",
    "        transforms.ToTensor(),  # Convert the image to a tensor\n",
    "        transforms.Normalize(mean, std)  # Normalize the image using the predefined mean and std\n",
    "    ])\n",
    "    \n",
    "    # Define the data transformation for test data\n",
    "    transform_test = transforms.Compose([\n",
    "        transforms.ToTensor(),  # Convert the image to a tensor\n",
    "        transforms.Normalize(mean, std)  # Normalize the image using the predefined mean and std\n",
    "    ])\n",
    "\n",
    "    # Load the training dataset\n",
    "    cifar100_training = torchvision.datasets.CIFAR100(\n",
    "        root=CIFAR_PATH,  # Root directory of the dataset\n",
    "        train=True,  # Load training data\n",
    "        download=True,  # Download the dataset if not available\n",
    "        transform=transform_train  # Apply the transformations\n",
    "    )\n",
    "    # Create a data loader for the training dataset\n",
    "    trainloader = torch.utils.data.DataLoader(\n",
    "        cifar100_training,  # The training dataset\n",
    "        batch_size=batchsize,  # Batch size\n",
    "        shuffle=True,  # Shuffle the data\n",
    "        num_workers=num_workers,  # Set number of workers to 0 for debugging\n",
    "        collate_fn=collate_fn,  # Apply CutMix augmentation\n",
    "        generator=torch.Generator(device=device), \n",
    "    )\n",
    "    \n",
    "    # Load the test dataset\n",
    "    cifar100_testing = torchvision.datasets.CIFAR100(\n",
    "        root=CIFAR_PATH,  # Root directory of the dataset\n",
    "        train=False,  # Load test data\n",
    "        download=True,  # Download the dataset if not available\n",
    "        transform=transform_test,  # Apply the transformations\n",
    "    )\n",
    "    # Create a data loader for the test dataset\n",
    "    testloader = torch.utils.data.DataLoader(\n",
    "        cifar100_testing,  # The test dataset\n",
    "        batch_size=100,  # Batch size\n",
    "        shuffle=False,  # Do not shuffle the data\n",
    "        num_workers=num_workers,  # Set number of workers to 0 for debugging\n",
    "        generator=torch.Generator(device=device),  \n",
    "    )\n",
    "    \n",
    "    # Return the training and test data loaders\n",
    "    return trainloader, testloader\n",
    "\n",
    "trainloader, testloader = cifar100_dataset(batchsize=512*5)\n",
    "\n",
    "print(trainloader, testloader)\n"
   ]
  },
  {
   "cell_type": "code",
   "execution_count": 3,
   "metadata": {},
   "outputs": [
    {
     "name": "stdout",
     "output_type": "stream",
     "text": [
      "torch.Size([2560, 3, 32, 32])\n",
      "torch.Size([2560, 100])\n"
     ]
    }
   ],
   "source": [
    "# Have a look at the dataloader\n",
    "for inputs, fine_labels in trainloader:\n",
    "    print(inputs.shape)  # Should print torch.Size([batch_size, 3, 32, 32])\n",
    "    print(fine_labels.shape)  # Should print torch.Size([batch_size, num_fine_classes])\n",
    "    break"
   ]
  },
  {
   "cell_type": "code",
   "execution_count": 14,
   "metadata": {},
   "outputs": [
    {
     "data": {
      "image/png": "[encoded data removed]",
      "text/plain": [
       "<Figure size 1500x1500 with 25 Axes>"
      ]
     },
     "metadata": {},
     "output_type": "display_data"
    }
   ],
   "source": [
    "import matplotlib.pyplot as plt\n",
    "import numpy as np\n",
    "import torchvision\n",
    "\n",
    "# 定义反归一化函数\n",
    "def imshow(img, mean, std):\n",
    "    img = img.numpy().transpose((1, 2, 0))\n",
    "    img = std * img + mean  # 反归一化\n",
    "    img = np.clip(img, 0, 1)  # 确保图像在0-1范围内\n",
    "    plt.imshow(img)\n",
    "\n",
    "# 从trainloader中获取一个批次的数据\n",
    "dataiter = iter(trainloader)\n",
    "images, labels = next(dataiter)\n",
    "\n",
    "# 确保获取到的图片数量足够\n",
    "assert len(images) >= 25, \"Batch size is less than 25, please increase the batch size.\"\n",
    "\n",
    "# 创建5x5的图像网格\n",
    "plt.figure(figsize=(15, 15))\n",
    "for i in range(25):\n",
    "    plt.subplot(5, 5, i + 1)\n",
    "    imshow(images[i], mean, std)\n",
    "    plt.axis('off')\n",
    "\n",
    "plt.show()\n"
   ]
  },
  {
   "cell_type": "markdown",
   "metadata": {},
   "source": [
    "# Define the model"
   ]
  },
  {
   "cell_type": "code",
   "execution_count": 4,
   "metadata": {},
   "outputs": [
    {
     "name": "stdout",
     "output_type": "stream",
     "text": [
      "torch.Size([4, 100])\n"
     ]
    }
   ],
   "source": [
    "# --------------------- Use my implementation ------------------------\n",
    "from torch import nn, optim\n",
    "import resnet\n",
    "\n",
    "model = resnet.resnet50()\n",
    "dummy_input = torch.randn(4, 3, 32, 32)\n",
    "output = model(dummy_input)\n",
    "print(output.shape)\n"
   ]
  },
  {
   "cell_type": "code",
   "execution_count": 5,
   "metadata": {},
   "outputs": [
    {
     "name": "stdout",
     "output_type": "stream",
     "text": [
      "Using 4 GPUs\n",
      "Total parameters: 23.71M\n"
     ]
    }
   ],
   "source": [
    "if torch.cuda.device_count() > 1:\n",
    "    devices = [1,2,3,4]\n",
    "    print(f\"Using {len(devices)} GPUs\")\n",
    "    model = nn.DataParallel(model, device_ids=devices)\n",
    "\n",
    "model = model.to(devices[0])\n",
    "\n",
    "total_params = sum(p.numel() for p in model.parameters())\n",
    "total_params_million = total_params / 10**6\n",
    "print(f\"Total parameters: {total_params_million:.2f}M\")"
   ]
  },
  {
   "cell_type": "markdown",
   "metadata": {},
   "source": [
    "# Train the model"
   ]
  },
  {
   "cell_type": "code",
   "execution_count": 6,
   "metadata": {},
   "outputs": [],
   "source": [
    "# Training loop\n",
    "from tqdm import tqdm\n",
    "from torch.utils.tensorboard import SummaryWriter\n",
    "writer = SummaryWriter('runs/ResNet')\n",
    "\n",
    "def train_model(model, trainloader, criterion, optimizer, schedulers=[], num_epochs=10, val_every_iter=False, start_epoch=0):\n",
    "    model.train()\n",
    "    global_step = 0\n",
    "    for epoch in range(start_epoch, num_epochs):\n",
    "        model.train()\n",
    "        running_loss = 0.0\n",
    "\n",
    "        train_loader = tqdm(trainloader, desc=f\"Epoch {epoch+1}/{num_epochs}\", leave=True)  # tqdm progress bar\n",
    "        for inputs, labels in train_loader:\n",
    "            inputs, labels = inputs.to(device), labels.to(device)\n",
    "            optimizer.zero_grad()\n",
    "            outputs = model(inputs)\n",
    "            # Record LR\n",
    "            current_lr = optimizer.param_groups[0]['lr']\n",
    "            writer.add_scalar('LR', current_lr, global_step)\n",
    "            # Loss\n",
    "            loss = criterion(outputs, labels)\n",
    "            # Add to tensorboard\n",
    "            writer.add_scalar('Loss/train', loss.item(), global_step)\n",
    "            global_step += 1\n",
    "            # Backward\n",
    "            loss.backward()\n",
    "            optimizer.step()\n",
    "            running_loss += loss.item()\n",
    "\n",
    "            # Update progress bar\n",
    "            train_loader.set_postfix(loss=loss.item(), lr=current_lr)\n",
    "\n",
    "            # Val every iteration\n",
    "            if val_every_iter:\n",
    "                val_loss, accuracy = evaluate_model(model, testloader, criterion)\n",
    "                writer.add_scalar('Loss/val', val_loss, global_step)\n",
    "                writer.add_scalar('Accuracy/val', accuracy, global_step)\n",
    "\n",
    "        for scheduler in schedulers:\n",
    "            scheduler.step()\n",
    "\n",
    "        loss_epoch = running_loss / len(trainloader)\n",
    "        if not val_every_iter:\n",
    "            val_loss, accuracy = evaluate_model(model, testloader, criterion)\n",
    "            writer.add_scalar('Loss/val', val_loss, global_step)\n",
    "            writer.add_scalar('Accuracy/val', accuracy, global_step)\n",
    "        # save model\n",
    "        if (epoch+1) % 20 == 0:\n",
    "            torch.save({\n",
    "                    'model_state_dict': model.state_dict(),\n",
    "                    'optimizer_state_dict': optimizer.state_dict(),\n",
    "                    'scheduler1_state_dict': schedulers[0].state_dict(),\n",
    "                    'epoch': epoch\n",
    "                    }, f'weights/ResNet/epoch{epoch+1}.pth')\n",
    "            print(\"*****************model saved*****************\\n\")\n",
    "        print(f\"Epoch {epoch+1}/{num_epochs}, Loss: {loss_epoch}\")\n",
    "\n",
    "    writer.close()\n",
    "\n",
    "# Evaluate the model\n",
    "def evaluate_model(model, testloader, criterion):\n",
    "    model.eval()\n",
    "    correct = 0\n",
    "    correct_top5 = 0\n",
    "    total = 0\n",
    "    with torch.no_grad():\n",
    "        val_loss = 0\n",
    "        for inputs, labels in testloader:\n",
    "            inputs, labels = inputs.to(device), labels.to(device)\n",
    "            outputs = model(inputs)\n",
    "            # Loss\n",
    "            loss = criterion(outputs, labels)\n",
    "            val_loss += loss.item()\n",
    "            # Accuracy\n",
    "            _, predicted = torch.max(outputs.data, 1)\n",
    "            _, predicted_top5 = outputs.topk(5, dim=1, largest=True, sorted=True)\n",
    "            temp = predicted_top5 == labels.view(-1, 1)\n",
    "            \n",
    "            total += labels.size(0)\n",
    "            correct += (predicted == labels).sum().item()\n",
    "            correct_top5 += temp.sum().item()\n",
    "\n",
    "        accuracy = correct / total\n",
    "        accuracy_top5 = correct_top5 / total\n",
    "    print(f\"Accuracy: {100 * accuracy:.2f}%, Accuracy(Top5): {100 * accuracy_top5:.2f}%\")\n",
    "    return val_loss/len(testloader), accuracy\n",
    "\n",
    "\n",
    "# Warm up and decrease of LR\n",
    "def lr_lambda(epoch):\n",
    "    warmup_epochs = 30\n",
    "    if epoch < warmup_epochs:\n",
    "        return (epoch + 1) / warmup_epochs\n",
    "    else:\n",
    "        return 0.1 ** ((epoch - warmup_epochs) / 150)\n",
    "\n"
   ]
  },
  {
   "cell_type": "code",
   "execution_count": 7,
   "metadata": {},
   "outputs": [],
   "source": [
    "# Set the model\n",
    "criterion = nn.CrossEntropyLoss()\n",
    "optimizer = optim.Adam(model.parameters(), lr=1e-3, weight_decay=1e-5)\n",
    "scheduler = optim.lr_scheduler.LambdaLR(optimizer, lr_lambda=lr_lambda)\n",
    "num_epochs = 200\n",
    "\n",
    "if not os.path.exists('weights/ResNet'):\n",
    "    os.makedirs('weights/ResNet')\n",
    "torch.save({  # check how big the model is\n",
    "            'model_state_dict': model.state_dict(),\n",
    "            }, f'weights/ResNet/epoch{0}.pth')\n",
    "\n"
   ]
  },
  {
   "cell_type": "code",
   "execution_count": 8,
   "metadata": {},
   "outputs": [
    {
     "name": "stderr",
     "output_type": "stream",
     "text": [
      "Epoch 1/200: 100%|██████████| 20/20 [00:36<00:00,  1.83s/it, loss=4.47, lr=3.33e-5]\n"
     ]
    },
    {
     "name": "stdout",
     "output_type": "stream",
     "text": [
      "Accuracy: 1.24%, Accuracy(Top5): 4.98%\n",
      "Epoch 1/200, Loss: 4.582153367996216\n"
     ]
    },
    {
     "name": "stderr",
     "output_type": "stream",
     "text": [
      "Epoch 2/200: 100%|██████████| 20/20 [00:35<00:00,  1.75s/it, loss=4.38, lr=6.67e-5]\n"
     ]
    },
    {
     "name": "stdout",
     "output_type": "stream",
     "text": [
      "Accuracy: 1.75%, Accuracy(Top5): 7.06%\n",
      "Epoch 2/200, Loss: 4.4688273668289185\n"
     ]
    },
    {
     "name": "stderr",
     "output_type": "stream",
     "text": [
      "Epoch 3/200: 100%|██████████| 20/20 [00:35<00:00,  1.75s/it, loss=4.13, lr=0.0001]\n"
     ]
    },
    {
     "name": "stdout",
     "output_type": "stream",
     "text": [
      "Accuracy: 6.49%, Accuracy(Top5): 21.67%\n",
      "Epoch 3/200, Loss: 4.330959987640381\n"
     ]
    },
    {
     "name": "stderr",
     "output_type": "stream",
     "text": [
      "Epoch 4/200: 100%|██████████| 20/20 [00:35<00:00,  1.76s/it, loss=4.08, lr=0.000133]\n"
     ]
    },
    {
     "name": "stdout",
     "output_type": "stream",
     "text": [
      "Accuracy: 9.66%, Accuracy(Top5): 28.65%\n",
      "Epoch 4/200, Loss: 4.185251986980438\n"
     ]
    },
    {
     "name": "stderr",
     "output_type": "stream",
     "text": [
      "Epoch 5/200: 100%|██████████| 20/20 [00:35<00:00,  1.75s/it, loss=4.25, lr=0.000167]\n"
     ]
    },
    {
     "name": "stdout",
     "output_type": "stream",
     "text": [
      "Accuracy: 11.74%, Accuracy(Top5): 32.92%\n",
      "Epoch 5/200, Loss: 4.162471842765808\n"
     ]
    },
    {
     "name": "stderr",
     "output_type": "stream",
     "text": [
      "Epoch 6/200: 100%|██████████| 20/20 [00:35<00:00,  1.77s/it, loss=3.98, lr=0.0002]\n"
     ]
    },
    {
     "name": "stdout",
     "output_type": "stream",
     "text": [
      "Accuracy: 13.61%, Accuracy(Top5): 36.23%\n",
      "Epoch 6/200, Loss: 4.053734123706818\n"
     ]
    },
    {
     "name": "stderr",
     "output_type": "stream",
     "text": [
      "Epoch 7/200: 100%|██████████| 20/20 [00:35<00:00,  1.76s/it, loss=4.1, lr=0.000233] \n"
     ]
    },
    {
     "name": "stdout",
     "output_type": "stream",
     "text": [
      "Accuracy: 14.06%, Accuracy(Top5): 38.12%\n",
      "Epoch 7/200, Loss: 3.877839171886444\n"
     ]
    },
    {
     "name": "stderr",
     "output_type": "stream",
     "text": [
      "Epoch 8/200: 100%|██████████| 20/20 [00:35<00:00,  1.77s/it, loss=4.09, lr=0.000267]\n"
     ]
    },
    {
     "name": "stdout",
     "output_type": "stream",
     "text": [
      "Accuracy: 16.91%, Accuracy(Top5): 44.87%\n",
      "Epoch 8/200, Loss: 3.910254716873169\n"
     ]
    },
    {
     "name": "stderr",
     "output_type": "stream",
     "text": [
      "Epoch 9/200: 100%|██████████| 20/20 [00:35<00:00,  1.76s/it, loss=3.31, lr=0.0003]\n"
     ]
    },
    {
     "name": "stdout",
     "output_type": "stream",
     "text": [
      "Accuracy: 20.56%, Accuracy(Top5): 47.79%\n",
      "Epoch 9/200, Loss: 3.8046045184135435\n"
     ]
    },
    {
     "name": "stderr",
     "output_type": "stream",
     "text": [
      "Epoch 10/200: 100%|██████████| 20/20 [00:35<00:00,  1.76s/it, loss=3.64, lr=0.000333]\n"
     ]
    },
    {
     "name": "stdout",
     "output_type": "stream",
     "text": [
      "Accuracy: 24.82%, Accuracy(Top5): 53.09%\n",
      "Epoch 10/200, Loss: 3.7711687088012695\n"
     ]
    },
    {
     "name": "stderr",
     "output_type": "stream",
     "text": [
      "Epoch 11/200: 100%|██████████| 20/20 [00:35<00:00,  1.76s/it, loss=3.56, lr=0.000367]\n"
     ]
    },
    {
     "name": "stdout",
     "output_type": "stream",
     "text": [
      "Accuracy: 22.13%, Accuracy(Top5): 50.02%\n",
      "Epoch 11/200, Loss: 3.637254571914673\n"
     ]
    },
    {
     "name": "stderr",
     "output_type": "stream",
     "text": [
      "Epoch 12/200: 100%|██████████| 20/20 [00:34<00:00,  1.75s/it, loss=3.88, lr=0.0004]\n"
     ]
    },
    {
     "name": "stdout",
     "output_type": "stream",
     "text": [
      "Accuracy: 22.83%, Accuracy(Top5): 51.09%\n",
      "Epoch 12/200, Loss: 3.6960209965705872\n"
     ]
    },
    {
     "name": "stderr",
     "output_type": "stream",
     "text": [
      "Epoch 13/200: 100%|██████████| 20/20 [00:35<00:00,  1.76s/it, loss=2.78, lr=0.000433]\n"
     ]
    },
    {
     "name": "stdout",
     "output_type": "stream",
     "text": [
      "Accuracy: 25.78%, Accuracy(Top5): 54.91%\n",
      "Epoch 13/200, Loss: 3.591369640827179\n"
     ]
    },
    {
     "name": "stderr",
     "output_type": "stream",
     "text": [
      "Epoch 14/200: 100%|██████████| 20/20 [00:35<00:00,  1.75s/it, loss=3.84, lr=0.000467]\n"
     ]
    },
    {
     "name": "stdout",
     "output_type": "stream",
     "text": [
      "Accuracy: 27.07%, Accuracy(Top5): 56.72%\n",
      "Epoch 14/200, Loss: 3.640027391910553\n"
     ]
    },
    {
     "name": "stderr",
     "output_type": "stream",
     "text": [
      "Epoch 15/200: 100%|██████████| 20/20 [00:34<00:00,  1.74s/it, loss=3.88, lr=0.0005]\n"
     ]
    },
    {
     "name": "stdout",
     "output_type": "stream",
     "text": [
      "Accuracy: 30.16%, Accuracy(Top5): 60.00%\n",
      "Epoch 15/200, Loss: 3.4456081986427307\n"
     ]
    },
    {
     "name": "stderr",
     "output_type": "stream",
     "text": [
      "Epoch 16/200: 100%|██████████| 20/20 [00:34<00:00,  1.75s/it, loss=3.45, lr=0.000533]\n"
     ]
    },
    {
     "name": "stdout",
     "output_type": "stream",
     "text": [
      "Accuracy: 30.17%, Accuracy(Top5): 60.09%\n",
      "Epoch 16/200, Loss: 3.396062707901001\n"
     ]
    },
    {
     "name": "stderr",
     "output_type": "stream",
     "text": [
      "Epoch 17/200: 100%|██████████| 20/20 [00:34<00:00,  1.74s/it, loss=3.82, lr=0.000567]\n"
     ]
    },
    {
     "name": "stdout",
     "output_type": "stream",
     "text": [
      "Accuracy: 30.07%, Accuracy(Top5): 61.54%\n",
      "Epoch 17/200, Loss: 3.288540780544281\n"
     ]
    },
    {
     "name": "stderr",
     "output_type": "stream",
     "text": [
      "Epoch 18/200: 100%|██████████| 20/20 [00:35<00:00,  1.75s/it, loss=3.78, lr=0.0006]\n"
     ]
    },
    {
     "name": "stdout",
     "output_type": "stream",
     "text": [
      "Accuracy: 36.33%, Accuracy(Top5): 66.86%\n",
      "Epoch 18/200, Loss: 3.399335241317749\n"
     ]
    },
    {
     "name": "stderr",
     "output_type": "stream",
     "text": [
      "Epoch 19/200: 100%|██████████| 20/20 [00:34<00:00,  1.75s/it, loss=2.85, lr=0.000633]\n"
     ]
    },
    {
     "name": "stdout",
     "output_type": "stream",
     "text": [
      "Accuracy: 33.73%, Accuracy(Top5): 63.17%\n",
      "Epoch 19/200, Loss: 3.1926564812660216\n"
     ]
    },
    {
     "name": "stderr",
     "output_type": "stream",
     "text": [
      "Epoch 20/200: 100%|██████████| 20/20 [00:34<00:00,  1.74s/it, loss=2.53, lr=0.000667]\n"
     ]
    },
    {
     "name": "stdout",
     "output_type": "stream",
     "text": [
      "Accuracy: 37.62%, Accuracy(Top5): 69.34%\n",
      "*****************model saved*****************\n",
      "\n",
      "Epoch 20/200, Loss: 3.085719621181488\n"
     ]
    },
    {
     "name": "stderr",
     "output_type": "stream",
     "text": [
      "Epoch 21/200: 100%|██████████| 20/20 [00:35<00:00,  1.75s/it, loss=3.62, lr=0.0007]\n"
     ]
    },
    {
     "name": "stdout",
     "output_type": "stream",
     "text": [
      "Accuracy: 37.03%, Accuracy(Top5): 67.14%\n",
      "Epoch 21/200, Loss: 3.382948160171509\n"
     ]
    },
    {
     "name": "stderr",
     "output_type": "stream",
     "text": [
      "Epoch 22/200: 100%|██████████| 20/20 [00:34<00:00,  1.74s/it, loss=3.13, lr=0.000733]\n"
     ]
    },
    {
     "name": "stdout",
     "output_type": "stream",
     "text": [
      "Accuracy: 38.93%, Accuracy(Top5): 69.70%\n",
      "Epoch 22/200, Loss: 2.9813306391239167\n"
     ]
    },
    {
     "name": "stderr",
     "output_type": "stream",
     "text": [
      "Epoch 23/200: 100%|██████████| 20/20 [00:35<00:00,  1.75s/it, loss=3.43, lr=0.000767]\n"
     ]
    },
    {
     "name": "stdout",
     "output_type": "stream",
     "text": [
      "Accuracy: 39.29%, Accuracy(Top5): 70.21%\n",
      "Epoch 23/200, Loss: 3.254379689693451\n"
     ]
    },
    {
     "name": "stderr",
     "output_type": "stream",
     "text": [
      "Epoch 24/200: 100%|██████████| 20/20 [00:34<00:00,  1.75s/it, loss=3.24, lr=0.0008]\n"
     ]
    },
    {
     "name": "stdout",
     "output_type": "stream",
     "text": [
      "Accuracy: 38.04%, Accuracy(Top5): 68.84%\n",
      "Epoch 24/200, Loss: 3.160015273094177\n"
     ]
    },
    {
     "name": "stderr",
     "output_type": "stream",
     "text": [
      "Epoch 25/200: 100%|██████████| 20/20 [00:34<00:00,  1.75s/it, loss=3.35, lr=0.000833]\n"
     ]
    },
    {
     "name": "stdout",
     "output_type": "stream",
     "text": [
      "Accuracy: 40.19%, Accuracy(Top5): 70.57%\n",
      "Epoch 25/200, Loss: 3.0833009839057923\n"
     ]
    },
    {
     "name": "stderr",
     "output_type": "stream",
     "text": [
      "Epoch 26/200: 100%|██████████| 20/20 [00:35<00:00,  1.75s/it, loss=3.33, lr=0.000867]\n"
     ]
    },
    {
     "name": "stdout",
     "output_type": "stream",
     "text": [
      "Accuracy: 43.37%, Accuracy(Top5): 74.56%\n",
      "Epoch 26/200, Loss: 3.0557820558547975\n"
     ]
    },
    {
     "name": "stderr",
     "output_type": "stream",
     "text": [
      "Epoch 27/200: 100%|██████████| 20/20 [00:34<00:00,  1.75s/it, loss=2.07, lr=0.0009]\n"
     ]
    },
    {
     "name": "stdout",
     "output_type": "stream",
     "text": [
      "Accuracy: 40.21%, Accuracy(Top5): 70.87%\n",
      "Epoch 27/200, Loss: 3.0399662852287292\n"
     ]
    },
    {
     "name": "stderr",
     "output_type": "stream",
     "text": [
      "Epoch 28/200: 100%|██████████| 20/20 [00:35<00:00,  1.75s/it, loss=2.32, lr=0.000933]\n"
     ]
    },
    {
     "name": "stdout",
     "output_type": "stream",
     "text": [
      "Accuracy: 44.80%, Accuracy(Top5): 74.35%\n",
      "Epoch 28/200, Loss: 2.929448640346527\n"
     ]
    },
    {
     "name": "stderr",
     "output_type": "stream",
     "text": [
      "Epoch 29/200: 100%|██████████| 20/20 [00:35<00:00,  1.75s/it, loss=3.2, lr=0.000967] \n"
     ]
    },
    {
     "name": "stdout",
     "output_type": "stream",
     "text": [
      "Accuracy: 41.66%, Accuracy(Top5): 72.45%\n",
      "Epoch 29/200, Loss: 3.0217671155929566\n"
     ]
    },
    {
     "name": "stderr",
     "output_type": "stream",
     "text": [
      "Epoch 30/200: 100%|██████████| 20/20 [00:35<00:00,  1.75s/it, loss=2.92, lr=0.001]\n"
     ]
    },
    {
     "name": "stdout",
     "output_type": "stream",
     "text": [
      "Accuracy: 44.30%, Accuracy(Top5): 74.58%\n",
      "Epoch 30/200, Loss: 3.0380997180938722\n"
     ]
    },
    {
     "name": "stderr",
     "output_type": "stream",
     "text": [
      "Epoch 31/200: 100%|██████████| 20/20 [00:35<00:00,  1.75s/it, loss=1.89, lr=0.001]\n"
     ]
    },
    {
     "name": "stdout",
     "output_type": "stream",
     "text": [
      "Accuracy: 46.97%, Accuracy(Top5): 75.84%\n",
      "Epoch 31/200, Loss: 2.7737330198287964\n"
     ]
    },
    {
     "name": "stderr",
     "output_type": "stream",
     "text": [
      "Epoch 32/200: 100%|██████████| 20/20 [00:35<00:00,  1.76s/it, loss=3.27, lr=0.000985]\n"
     ]
    },
    {
     "name": "stdout",
     "output_type": "stream",
     "text": [
      "Accuracy: 42.11%, Accuracy(Top5): 73.22%\n",
      "Epoch 32/200, Loss: 2.744440162181854\n"
     ]
    },
    {
     "name": "stderr",
     "output_type": "stream",
     "text": [
      "Epoch 33/200: 100%|██████████| 20/20 [00:34<00:00,  1.74s/it, loss=3.04, lr=0.00097]\n"
     ]
    },
    {
     "name": "stdout",
     "output_type": "stream",
     "text": [
      "Accuracy: 48.12%, Accuracy(Top5): 77.49%\n",
      "Epoch 33/200, Loss: 2.8079001009464264\n"
     ]
    },
    {
     "name": "stderr",
     "output_type": "stream",
     "text": [
      "Epoch 34/200: 100%|██████████| 20/20 [00:34<00:00,  1.74s/it, loss=2.9, lr=0.000955] \n"
     ]
    },
    {
     "name": "stdout",
     "output_type": "stream",
     "text": [
      "Accuracy: 50.45%, Accuracy(Top5): 79.11%\n",
      "Epoch 34/200, Loss: 2.5402701139450072\n"
     ]
    },
    {
     "name": "stderr",
     "output_type": "stream",
     "text": [
      "Epoch 35/200: 100%|██████████| 20/20 [00:34<00:00,  1.74s/it, loss=2.78, lr=0.00094]\n"
     ]
    },
    {
     "name": "stdout",
     "output_type": "stream",
     "text": [
      "Accuracy: 52.93%, Accuracy(Top5): 81.34%\n",
      "Epoch 35/200, Loss: 2.7234429121017456\n"
     ]
    },
    {
     "name": "stderr",
     "output_type": "stream",
     "text": [
      "Epoch 36/200: 100%|██████████| 20/20 [00:35<00:00,  1.75s/it, loss=3.17, lr=0.000926]\n"
     ]
    },
    {
     "name": "stdout",
     "output_type": "stream",
     "text": [
      "Accuracy: 49.76%, Accuracy(Top5): 80.06%\n",
      "Epoch 36/200, Loss: 2.8744425415992736\n"
     ]
    },
    {
     "name": "stderr",
     "output_type": "stream",
     "text": [
      "Epoch 37/200: 100%|██████████| 20/20 [00:34<00:00,  1.74s/it, loss=2.9, lr=0.000912] \n"
     ]
    },
    {
     "name": "stdout",
     "output_type": "stream",
     "text": [
      "Accuracy: 54.92%, Accuracy(Top5): 81.76%\n",
      "Epoch 37/200, Loss: 2.4940649807453155\n"
     ]
    },
    {
     "name": "stderr",
     "output_type": "stream",
     "text": [
      "Epoch 38/200: 100%|██████████| 20/20 [00:34<00:00,  1.74s/it, loss=2.32, lr=0.000898]\n"
     ]
    },
    {
     "name": "stdout",
     "output_type": "stream",
     "text": [
      "Accuracy: 52.00%, Accuracy(Top5): 79.81%\n",
      "Epoch 38/200, Loss: 2.6532026529312134\n"
     ]
    },
    {
     "name": "stderr",
     "output_type": "stream",
     "text": [
      "Epoch 39/200: 100%|██████████| 20/20 [00:35<00:00,  1.75s/it, loss=3.01, lr=0.000884]\n"
     ]
    },
    {
     "name": "stdout",
     "output_type": "stream",
     "text": [
      "Accuracy: 55.15%, Accuracy(Top5): 82.26%\n",
      "Epoch 39/200, Loss: 2.396738874912262\n"
     ]
    },
    {
     "name": "stderr",
     "output_type": "stream",
     "text": [
      "Epoch 40/200: 100%|██████████| 20/20 [00:35<00:00,  1.75s/it, loss=2.33, lr=0.000871]\n"
     ]
    },
    {
     "name": "stdout",
     "output_type": "stream",
     "text": [
      "Accuracy: 53.83%, Accuracy(Top5): 81.36%\n",
      "*****************model saved*****************\n",
      "\n",
      "Epoch 40/200, Loss: 2.3764844834804535\n"
     ]
    },
    {
     "name": "stderr",
     "output_type": "stream",
     "text": [
      "Epoch 41/200: 100%|██████████| 20/20 [00:34<00:00,  1.75s/it, loss=2.82, lr=0.000858]\n"
     ]
    },
    {
     "name": "stdout",
     "output_type": "stream",
     "text": [
      "Accuracy: 59.10%, Accuracy(Top5): 86.02%\n",
      "Epoch 41/200, Loss: 2.4804497241973875\n"
     ]
    },
    {
     "name": "stderr",
     "output_type": "stream",
     "text": [
      "Epoch 42/200: 100%|██████████| 20/20 [00:34<00:00,  1.75s/it, loss=2.49, lr=0.000845]\n"
     ]
    },
    {
     "name": "stdout",
     "output_type": "stream",
     "text": [
      "Accuracy: 54.33%, Accuracy(Top5): 82.61%\n",
      "Epoch 42/200, Loss: 2.4075602412223818\n"
     ]
    },
    {
     "name": "stderr",
     "output_type": "stream",
     "text": [
      "Epoch 43/200: 100%|██████████| 20/20 [00:34<00:00,  1.75s/it, loss=2.87, lr=0.000832]\n"
     ]
    },
    {
     "name": "stdout",
     "output_type": "stream",
     "text": [
      "Accuracy: 56.64%, Accuracy(Top5): 83.84%\n",
      "Epoch 43/200, Loss: 2.4517705261707308\n"
     ]
    },
    {
     "name": "stderr",
     "output_type": "stream",
     "text": [
      "Epoch 44/200: 100%|██████████| 20/20 [00:34<00:00,  1.74s/it, loss=2.29, lr=0.000819]\n"
     ]
    },
    {
     "name": "stdout",
     "output_type": "stream",
     "text": [
      "Accuracy: 59.14%, Accuracy(Top5): 84.81%\n",
      "Epoch 44/200, Loss: 2.54982134103775\n"
     ]
    },
    {
     "name": "stderr",
     "output_type": "stream",
     "text": [
      "Epoch 45/200: 100%|██████████| 20/20 [00:35<00:00,  1.75s/it, loss=1.11, lr=0.000807]\n"
     ]
    },
    {
     "name": "stdout",
     "output_type": "stream",
     "text": [
      "Accuracy: 60.48%, Accuracy(Top5): 86.15%\n",
      "Epoch 45/200, Loss: 2.2912309646606444\n"
     ]
    },
    {
     "name": "stderr",
     "output_type": "stream",
     "text": [
      "Epoch 46/200: 100%|██████████| 20/20 [00:35<00:00,  1.76s/it, loss=2.34, lr=0.000794]\n"
     ]
    },
    {
     "name": "stdout",
     "output_type": "stream",
     "text": [
      "Accuracy: 57.54%, Accuracy(Top5): 84.26%\n",
      "Epoch 46/200, Loss: 2.305190682411194\n"
     ]
    },
    {
     "name": "stderr",
     "output_type": "stream",
     "text": [
      "Epoch 47/200: 100%|██████████| 20/20 [00:35<00:00,  1.75s/it, loss=2.86, lr=0.000782]\n"
     ]
    },
    {
     "name": "stdout",
     "output_type": "stream",
     "text": [
      "Accuracy: 59.98%, Accuracy(Top5): 84.83%\n",
      "Epoch 47/200, Loss: 2.512275439500809\n"
     ]
    },
    {
     "name": "stderr",
     "output_type": "stream",
     "text": [
      "Epoch 48/200: 100%|██████████| 20/20 [00:34<00:00,  1.74s/it, loss=2.48, lr=0.00077] \n"
     ]
    },
    {
     "name": "stdout",
     "output_type": "stream",
     "text": [
      "Accuracy: 60.66%, Accuracy(Top5): 85.82%\n",
      "Epoch 48/200, Loss: 2.3848773539066315\n"
     ]
    },
    {
     "name": "stderr",
     "output_type": "stream",
     "text": [
      "Epoch 49/200: 100%|██████████| 20/20 [00:35<00:00,  1.75s/it, loss=2.59, lr=0.000759]\n"
     ]
    },
    {
     "name": "stdout",
     "output_type": "stream",
     "text": [
      "Accuracy: 61.98%, Accuracy(Top5): 87.01%\n",
      "Epoch 49/200, Loss: 2.193564349412918\n"
     ]
    },
    {
     "name": "stderr",
     "output_type": "stream",
     "text": [
      "Epoch 50/200: 100%|██████████| 20/20 [00:35<00:00,  1.75s/it, loss=2.96, lr=0.000747]\n"
     ]
    },
    {
     "name": "stdout",
     "output_type": "stream",
     "text": [
      "Accuracy: 60.19%, Accuracy(Top5): 85.75%\n",
      "Epoch 50/200, Loss: 2.1527067840099336\n"
     ]
    },
    {
     "name": "stderr",
     "output_type": "stream",
     "text": [
      "Epoch 51/200: 100%|██████████| 20/20 [00:35<00:00,  1.75s/it, loss=2.52, lr=0.000736]\n"
     ]
    },
    {
     "name": "stdout",
     "output_type": "stream",
     "text": [
      "Accuracy: 57.46%, Accuracy(Top5): 83.83%\n",
      "Epoch 51/200, Loss: 2.478411340713501\n"
     ]
    },
    {
     "name": "stderr",
     "output_type": "stream",
     "text": [
      "Epoch 52/200: 100%|██████████| 20/20 [00:35<00:00,  1.75s/it, loss=2.12, lr=0.000724]\n"
     ]
    },
    {
     "name": "stdout",
     "output_type": "stream",
     "text": [
      "Accuracy: 58.40%, Accuracy(Top5): 84.61%\n",
      "Epoch 52/200, Loss: 2.2575845301151274\n"
     ]
    },
    {
     "name": "stderr",
     "output_type": "stream",
     "text": [
      "Epoch 53/200: 100%|██████████| 20/20 [00:34<00:00,  1.75s/it, loss=2.63, lr=0.000713]\n"
     ]
    },
    {
     "name": "stdout",
     "output_type": "stream",
     "text": [
      "Accuracy: 62.33%, Accuracy(Top5): 87.43%\n",
      "Epoch 53/200, Loss: 2.4304928541183473\n"
     ]
    },
    {
     "name": "stderr",
     "output_type": "stream",
     "text": [
      "Epoch 54/200: 100%|██████████| 20/20 [00:34<00:00,  1.74s/it, loss=2.96, lr=0.000703]\n"
     ]
    },
    {
     "name": "stdout",
     "output_type": "stream",
     "text": [
      "Accuracy: 61.73%, Accuracy(Top5): 86.70%\n",
      "Epoch 54/200, Loss: 2.23113494515419\n"
     ]
    },
    {
     "name": "stderr",
     "output_type": "stream",
     "text": [
      "Epoch 55/200: 100%|██████████| 20/20 [00:35<00:00,  1.75s/it, loss=2.58, lr=0.000692] \n"
     ]
    },
    {
     "name": "stdout",
     "output_type": "stream",
     "text": [
      "Accuracy: 62.77%, Accuracy(Top5): 86.68%\n",
      "Epoch 55/200, Loss: 2.197582021355629\n"
     ]
    },
    {
     "name": "stderr",
     "output_type": "stream",
     "text": [
      "Epoch 56/200: 100%|██████████| 20/20 [00:34<00:00,  1.75s/it, loss=2.77, lr=0.000681]\n"
     ]
    },
    {
     "name": "stdout",
     "output_type": "stream",
     "text": [
      "Accuracy: 63.78%, Accuracy(Top5): 88.17%\n",
      "Epoch 56/200, Loss: 2.1109811663627625\n"
     ]
    },
    {
     "name": "stderr",
     "output_type": "stream",
     "text": [
      "Epoch 57/200: 100%|██████████| 20/20 [00:34<00:00,  1.74s/it, loss=2.64, lr=0.000671]\n"
     ]
    },
    {
     "name": "stdout",
     "output_type": "stream",
     "text": [
      "Accuracy: 64.71%, Accuracy(Top5): 87.86%\n",
      "Epoch 57/200, Loss: 2.3226554155349732\n"
     ]
    },
    {
     "name": "stderr",
     "output_type": "stream",
     "text": [
      "Epoch 58/200: 100%|██████████| 20/20 [00:35<00:00,  1.75s/it, loss=1.66, lr=0.000661]\n"
     ]
    },
    {
     "name": "stdout",
     "output_type": "stream",
     "text": [
      "Accuracy: 62.23%, Accuracy(Top5): 87.04%\n",
      "Epoch 58/200, Loss: 2.210886514186859\n"
     ]
    },
    {
     "name": "stderr",
     "output_type": "stream",
     "text": [
      "Epoch 59/200: 100%|██████████| 20/20 [00:34<00:00,  1.75s/it, loss=0.802, lr=0.000651]\n"
     ]
    },
    {
     "name": "stdout",
     "output_type": "stream",
     "text": [
      "Accuracy: 64.96%, Accuracy(Top5): 89.15%\n",
      "Epoch 59/200, Loss: 1.8915882229804992\n"
     ]
    },
    {
     "name": "stderr",
     "output_type": "stream",
     "text": [
      "Epoch 60/200: 100%|██████████| 20/20 [00:34<00:00,  1.74s/it, loss=0.899, lr=0.000641]\n"
     ]
    },
    {
     "name": "stdout",
     "output_type": "stream",
     "text": [
      "Accuracy: 64.57%, Accuracy(Top5): 88.24%\n",
      "*****************model saved*****************\n",
      "\n",
      "Epoch 60/200, Loss: 2.059354904294014\n"
     ]
    },
    {
     "name": "stderr",
     "output_type": "stream",
     "text": [
      "Epoch 61/200: 100%|██████████| 20/20 [00:34<00:00,  1.74s/it, loss=2.33, lr=0.000631]\n"
     ]
    },
    {
     "name": "stdout",
     "output_type": "stream",
     "text": [
      "Accuracy: 64.10%, Accuracy(Top5): 88.02%\n",
      "Epoch 61/200, Loss: 2.045384466648102\n"
     ]
    },
    {
     "name": "stderr",
     "output_type": "stream",
     "text": [
      "Epoch 62/200: 100%|██████████| 20/20 [00:34<00:00,  1.74s/it, loss=1.88, lr=0.000621] \n"
     ]
    },
    {
     "name": "stdout",
     "output_type": "stream",
     "text": [
      "Accuracy: 64.14%, Accuracy(Top5): 87.35%\n",
      "Epoch 62/200, Loss: 1.9271139800548553\n"
     ]
    },
    {
     "name": "stderr",
     "output_type": "stream",
     "text": [
      "Epoch 63/200: 100%|██████████| 20/20 [00:34<00:00,  1.74s/it, loss=2.56, lr=0.000612] \n"
     ]
    },
    {
     "name": "stdout",
     "output_type": "stream",
     "text": [
      "Accuracy: 64.94%, Accuracy(Top5): 87.45%\n",
      "Epoch 63/200, Loss: 1.7986203491687776\n"
     ]
    },
    {
     "name": "stderr",
     "output_type": "stream",
     "text": [
      "Epoch 64/200: 100%|██████████| 20/20 [00:34<00:00,  1.75s/it, loss=2.22, lr=0.000603]\n"
     ]
    },
    {
     "name": "stdout",
     "output_type": "stream",
     "text": [
      "Accuracy: 64.58%, Accuracy(Top5): 87.85%\n",
      "Epoch 64/200, Loss: 2.1250756859779356\n"
     ]
    },
    {
     "name": "stderr",
     "output_type": "stream",
     "text": [
      "Epoch 65/200: 100%|██████████| 20/20 [00:35<00:00,  1.76s/it, loss=1.42, lr=0.000593]\n"
     ]
    },
    {
     "name": "stdout",
     "output_type": "stream",
     "text": [
      "Accuracy: 66.28%, Accuracy(Top5): 88.61%\n",
      "Epoch 65/200, Loss: 2.124313420057297\n"
     ]
    },
    {
     "name": "stderr",
     "output_type": "stream",
     "text": [
      "Epoch 66/200: 100%|██████████| 20/20 [00:35<00:00,  1.76s/it, loss=0.919, lr=0.000584]\n"
     ]
    },
    {
     "name": "stdout",
     "output_type": "stream",
     "text": [
      "Accuracy: 68.05%, Accuracy(Top5): 89.84%\n",
      "Epoch 66/200, Loss: 1.7306784480810165\n"
     ]
    },
    {
     "name": "stderr",
     "output_type": "stream",
     "text": [
      "Epoch 67/200: 100%|██████████| 20/20 [00:35<00:00,  1.76s/it, loss=2.5, lr=0.000575]  \n"
     ]
    },
    {
     "name": "stdout",
     "output_type": "stream",
     "text": [
      "Accuracy: 66.45%, Accuracy(Top5): 89.18%\n",
      "Epoch 67/200, Loss: 2.0128800749778746\n"
     ]
    },
    {
     "name": "stderr",
     "output_type": "stream",
     "text": [
      "Epoch 68/200: 100%|██████████| 20/20 [00:35<00:00,  1.75s/it, loss=2.57, lr=0.000567]\n"
     ]
    },
    {
     "name": "stdout",
     "output_type": "stream",
     "text": [
      "Accuracy: 66.56%, Accuracy(Top5): 88.68%\n",
      "Epoch 68/200, Loss: 1.664353621006012\n"
     ]
    },
    {
     "name": "stderr",
     "output_type": "stream",
     "text": [
      "Epoch 69/200: 100%|██████████| 20/20 [00:34<00:00,  1.75s/it, loss=2.54, lr=0.000558] \n"
     ]
    },
    {
     "name": "stdout",
     "output_type": "stream",
     "text": [
      "Accuracy: 65.84%, Accuracy(Top5): 88.43%\n",
      "Epoch 69/200, Loss: 1.8569525092840196\n"
     ]
    },
    {
     "name": "stderr",
     "output_type": "stream",
     "text": [
      "Epoch 70/200: 100%|██████████| 20/20 [00:34<00:00,  1.75s/it, loss=2.43, lr=0.00055] \n"
     ]
    },
    {
     "name": "stdout",
     "output_type": "stream",
     "text": [
      "Accuracy: 67.38%, Accuracy(Top5): 89.14%\n",
      "Epoch 70/200, Loss: 2.033458212018013\n"
     ]
    },
    {
     "name": "stderr",
     "output_type": "stream",
     "text": [
      "Epoch 71/200: 100%|██████████| 20/20 [00:35<00:00,  1.76s/it, loss=1.25, lr=0.000541] \n"
     ]
    },
    {
     "name": "stdout",
     "output_type": "stream",
     "text": [
      "Accuracy: 65.64%, Accuracy(Top5): 88.95%\n",
      "Epoch 71/200, Loss: 2.0670985698699953\n"
     ]
    },
    {
     "name": "stderr",
     "output_type": "stream",
     "text": [
      "Epoch 72/200: 100%|██████████| 20/20 [00:34<00:00,  1.75s/it, loss=2.53, lr=0.000533]\n"
     ]
    },
    {
     "name": "stdout",
     "output_type": "stream",
     "text": [
      "Accuracy: 67.32%, Accuracy(Top5): 89.54%\n",
      "Epoch 72/200, Loss: 1.9988402009010315\n"
     ]
    },
    {
     "name": "stderr",
     "output_type": "stream",
     "text": [
      "Epoch 73/200: 100%|██████████| 20/20 [00:34<00:00,  1.74s/it, loss=2.77, lr=0.000525] \n"
     ]
    },
    {
     "name": "stdout",
     "output_type": "stream",
     "text": [
      "Accuracy: 66.50%, Accuracy(Top5): 88.78%\n",
      "Epoch 73/200, Loss: 1.844375815987587\n"
     ]
    },
    {
     "name": "stderr",
     "output_type": "stream",
     "text": [
      "Epoch 74/200: 100%|██████████| 20/20 [00:34<00:00,  1.74s/it, loss=2.32, lr=0.000517] \n"
     ]
    },
    {
     "name": "stdout",
     "output_type": "stream",
     "text": [
      "Accuracy: 65.19%, Accuracy(Top5): 88.12%\n",
      "Epoch 74/200, Loss: 1.9059786379337311\n"
     ]
    },
    {
     "name": "stderr",
     "output_type": "stream",
     "text": [
      "Epoch 75/200: 100%|██████████| 20/20 [00:34<00:00,  1.75s/it, loss=2.36, lr=0.000509]\n"
     ]
    },
    {
     "name": "stdout",
     "output_type": "stream",
     "text": [
      "Accuracy: 67.93%, Accuracy(Top5): 89.37%\n",
      "Epoch 75/200, Loss: 2.0070236012339593\n"
     ]
    },
    {
     "name": "stderr",
     "output_type": "stream",
     "text": [
      "Epoch 76/200: 100%|██████████| 20/20 [00:35<00:00,  1.75s/it, loss=2.48, lr=0.000501] \n"
     ]
    },
    {
     "name": "stdout",
     "output_type": "stream",
     "text": [
      "Accuracy: 67.82%, Accuracy(Top5): 89.42%\n",
      "Epoch 76/200, Loss: 1.837462630867958\n"
     ]
    },
    {
     "name": "stderr",
     "output_type": "stream",
     "text": [
      "Epoch 77/200: 100%|██████████| 20/20 [00:35<00:00,  1.75s/it, loss=2.29, lr=0.000494] \n"
     ]
    },
    {
     "name": "stdout",
     "output_type": "stream",
     "text": [
      "Accuracy: 68.52%, Accuracy(Top5): 89.59%\n",
      "Epoch 77/200, Loss: 1.8609640955924989\n"
     ]
    },
    {
     "name": "stderr",
     "output_type": "stream",
     "text": [
      "Epoch 78/200: 100%|██████████| 20/20 [00:35<00:00,  1.76s/it, loss=2.43, lr=0.000486] \n"
     ]
    },
    {
     "name": "stdout",
     "output_type": "stream",
     "text": [
      "Accuracy: 67.16%, Accuracy(Top5): 89.11%\n",
      "Epoch 78/200, Loss: 1.9811586350202561\n"
     ]
    },
    {
     "name": "stderr",
     "output_type": "stream",
     "text": [
      "Epoch 79/200: 100%|██████████| 20/20 [00:35<00:00,  1.75s/it, loss=2.36, lr=0.000479]\n"
     ]
    },
    {
     "name": "stdout",
     "output_type": "stream",
     "text": [
      "Accuracy: 66.46%, Accuracy(Top5): 88.95%\n",
      "Epoch 79/200, Loss: 1.9905220687389373\n"
     ]
    },
    {
     "name": "stderr",
     "output_type": "stream",
     "text": [
      "Epoch 80/200: 100%|██████████| 20/20 [00:35<00:00,  1.75s/it, loss=2.08, lr=0.000471] \n"
     ]
    },
    {
     "name": "stdout",
     "output_type": "stream",
     "text": [
      "Accuracy: 68.53%, Accuracy(Top5): 90.10%\n",
      "*****************model saved*****************\n",
      "\n",
      "Epoch 80/200, Loss: 1.6287763580679893\n"
     ]
    },
    {
     "name": "stderr",
     "output_type": "stream",
     "text": [
      "Epoch 81/200: 100%|██████████| 20/20 [00:34<00:00,  1.74s/it, loss=1.91, lr=0.000464] \n"
     ]
    },
    {
     "name": "stdout",
     "output_type": "stream",
     "text": [
      "Accuracy: 66.85%, Accuracy(Top5): 88.93%\n",
      "Epoch 81/200, Loss: 1.7318865299224853\n"
     ]
    },
    {
     "name": "stderr",
     "output_type": "stream",
     "text": [
      "Epoch 82/200: 100%|██████████| 20/20 [00:34<00:00,  1.74s/it, loss=1.89, lr=0.000457]\n"
     ]
    },
    {
     "name": "stdout",
     "output_type": "stream",
     "text": [
      "Accuracy: 67.96%, Accuracy(Top5): 89.19%\n",
      "Epoch 82/200, Loss: 1.6602196261286735\n"
     ]
    },
    {
     "name": "stderr",
     "output_type": "stream",
     "text": [
      "Epoch 83/200: 100%|██████████| 20/20 [00:34<00:00,  1.74s/it, loss=2.16, lr=0.00045] \n"
     ]
    },
    {
     "name": "stdout",
     "output_type": "stream",
     "text": [
      "Accuracy: 67.76%, Accuracy(Top5): 88.86%\n",
      "Epoch 83/200, Loss: 1.917643678188324\n"
     ]
    },
    {
     "name": "stderr",
     "output_type": "stream",
     "text": [
      "Epoch 84/200: 100%|██████████| 20/20 [00:34<00:00,  1.74s/it, loss=0.455, lr=0.000443]\n"
     ]
    },
    {
     "name": "stdout",
     "output_type": "stream",
     "text": [
      "Accuracy: 68.11%, Accuracy(Top5): 89.21%\n",
      "Epoch 84/200, Loss: 1.7033182874321937\n"
     ]
    },
    {
     "name": "stderr",
     "output_type": "stream",
     "text": [
      "Epoch 85/200: 100%|██████████| 20/20 [00:34<00:00,  1.75s/it, loss=2.11, lr=0.000437]\n"
     ]
    },
    {
     "name": "stdout",
     "output_type": "stream",
     "text": [
      "Accuracy: 69.28%, Accuracy(Top5): 90.10%\n",
      "Epoch 85/200, Loss: 1.6962659657001495\n"
     ]
    },
    {
     "name": "stderr",
     "output_type": "stream",
     "text": [
      "Epoch 86/200: 100%|██████████| 20/20 [00:34<00:00,  1.74s/it, loss=2.24, lr=0.00043] \n"
     ]
    },
    {
     "name": "stdout",
     "output_type": "stream",
     "text": [
      "Accuracy: 68.20%, Accuracy(Top5): 89.60%\n",
      "Epoch 86/200, Loss: 1.701314425468445\n"
     ]
    },
    {
     "name": "stderr",
     "output_type": "stream",
     "text": [
      "Epoch 87/200: 100%|██████████| 20/20 [00:34<00:00,  1.75s/it, loss=2.03, lr=0.000423]\n"
     ]
    },
    {
     "name": "stdout",
     "output_type": "stream",
     "text": [
      "Accuracy: 68.51%, Accuracy(Top5): 89.44%\n",
      "Epoch 87/200, Loss: 1.8543239772319793\n"
     ]
    },
    {
     "name": "stderr",
     "output_type": "stream",
     "text": [
      "Epoch 88/200: 100%|██████████| 20/20 [00:34<00:00,  1.75s/it, loss=2.22, lr=0.000417]\n"
     ]
    },
    {
     "name": "stdout",
     "output_type": "stream",
     "text": [
      "Accuracy: 69.44%, Accuracy(Top5): 90.16%\n",
      "Epoch 88/200, Loss: 1.760332553088665\n"
     ]
    },
    {
     "name": "stderr",
     "output_type": "stream",
     "text": [
      "Epoch 89/200: 100%|██████████| 20/20 [00:34<00:00,  1.75s/it, loss=1.44, lr=0.000411] \n"
     ]
    },
    {
     "name": "stdout",
     "output_type": "stream",
     "text": [
      "Accuracy: 67.20%, Accuracy(Top5): 88.84%\n",
      "Epoch 89/200, Loss: 1.6341632440686227\n"
     ]
    },
    {
     "name": "stderr",
     "output_type": "stream",
     "text": [
      "Epoch 90/200: 100%|██████████| 20/20 [00:35<00:00,  1.76s/it, loss=1.65, lr=0.000404] \n"
     ]
    },
    {
     "name": "stdout",
     "output_type": "stream",
     "text": [
      "Accuracy: 67.11%, Accuracy(Top5): 88.88%\n",
      "Epoch 90/200, Loss: 1.85080885887146\n"
     ]
    },
    {
     "name": "stderr",
     "output_type": "stream",
     "text": [
      "Epoch 91/200: 100%|██████████| 20/20 [00:35<00:00,  1.75s/it, loss=2.19, lr=0.000398] \n"
     ]
    },
    {
     "name": "stdout",
     "output_type": "stream",
     "text": [
      "Accuracy: 69.03%, Accuracy(Top5): 89.65%\n",
      "Epoch 91/200, Loss: 1.6634428277611732\n"
     ]
    },
    {
     "name": "stderr",
     "output_type": "stream",
     "text": [
      "Epoch 92/200: 100%|██████████| 20/20 [00:34<00:00,  1.75s/it, loss=1.65, lr=0.000392] \n"
     ]
    },
    {
     "name": "stdout",
     "output_type": "stream",
     "text": [
      "Accuracy: 66.62%, Accuracy(Top5): 88.14%\n",
      "Epoch 92/200, Loss: 1.8117280200123786\n"
     ]
    },
    {
     "name": "stderr",
     "output_type": "stream",
     "text": [
      "Epoch 93/200: 100%|██████████| 20/20 [00:34<00:00,  1.74s/it, loss=1.43, lr=0.000386] \n"
     ]
    },
    {
     "name": "stdout",
     "output_type": "stream",
     "text": [
      "Accuracy: 69.04%, Accuracy(Top5): 89.41%\n",
      "Epoch 93/200, Loss: 1.6222724556922912\n"
     ]
    },
    {
     "name": "stderr",
     "output_type": "stream",
     "text": [
      "Epoch 94/200: 100%|██████████| 20/20 [00:34<00:00,  1.74s/it, loss=1.96, lr=0.00038]\n"
     ]
    },
    {
     "name": "stdout",
     "output_type": "stream",
     "text": [
      "Accuracy: 68.81%, Accuracy(Top5): 89.71%\n",
      "Epoch 94/200, Loss: 1.8707910656929017\n"
     ]
    },
    {
     "name": "stderr",
     "output_type": "stream",
     "text": [
      "Epoch 95/200: 100%|██████████| 20/20 [00:34<00:00,  1.75s/it, loss=0.616, lr=0.000374]\n"
     ]
    },
    {
     "name": "stdout",
     "output_type": "stream",
     "text": [
      "Accuracy: 69.85%, Accuracy(Top5): 90.20%\n",
      "Epoch 95/200, Loss: 1.7536655902862548\n"
     ]
    },
    {
     "name": "stderr",
     "output_type": "stream",
     "text": [
      "Epoch 96/200: 100%|██████████| 20/20 [00:34<00:00,  1.74s/it, loss=2.06, lr=0.000369] \n"
     ]
    },
    {
     "name": "stdout",
     "output_type": "stream",
     "text": [
      "Accuracy: 68.57%, Accuracy(Top5): 89.39%\n",
      "Epoch 96/200, Loss: 1.7743215382099151\n"
     ]
    },
    {
     "name": "stderr",
     "output_type": "stream",
     "text": [
      "Epoch 97/200: 100%|██████████| 20/20 [00:34<00:00,  1.74s/it, loss=1.61, lr=0.000363] \n"
     ]
    },
    {
     "name": "stdout",
     "output_type": "stream",
     "text": [
      "Accuracy: 68.40%, Accuracy(Top5): 89.26%\n",
      "Epoch 97/200, Loss: 1.6400196403265\n"
     ]
    },
    {
     "name": "stderr",
     "output_type": "stream",
     "text": [
      "Epoch 98/200: 100%|██████████| 20/20 [00:35<00:00,  1.75s/it, loss=2.01, lr=0.000358] \n"
     ]
    },
    {
     "name": "stdout",
     "output_type": "stream",
     "text": [
      "Accuracy: 70.01%, Accuracy(Top5): 90.35%\n",
      "Epoch 98/200, Loss: 1.5494193404912948\n"
     ]
    },
    {
     "name": "stderr",
     "output_type": "stream",
     "text": [
      "Epoch 99/200: 100%|██████████| 20/20 [00:34<00:00,  1.74s/it, loss=1.95, lr=0.000352] \n"
     ]
    },
    {
     "name": "stdout",
     "output_type": "stream",
     "text": [
      "Accuracy: 68.84%, Accuracy(Top5): 89.58%\n",
      "Epoch 99/200, Loss: 1.5103761747479438\n"
     ]
    },
    {
     "name": "stderr",
     "output_type": "stream",
     "text": [
      "Epoch 100/200: 100%|██████████| 20/20 [00:34<00:00,  1.74s/it, loss=1.95, lr=0.000347] \n"
     ]
    },
    {
     "name": "stdout",
     "output_type": "stream",
     "text": [
      "Accuracy: 69.43%, Accuracy(Top5): 89.80%\n",
      "*****************model saved*****************\n",
      "\n",
      "Epoch 100/200, Loss: 1.5403535425662995\n"
     ]
    },
    {
     "name": "stderr",
     "output_type": "stream",
     "text": [
      "Epoch 101/200: 100%|██████████| 20/20 [00:34<00:00,  1.74s/it, loss=1.39, lr=0.000341] \n"
     ]
    },
    {
     "name": "stdout",
     "output_type": "stream",
     "text": [
      "Accuracy: 69.64%, Accuracy(Top5): 89.87%\n",
      "Epoch 101/200, Loss: 1.50528334826231\n"
     ]
    },
    {
     "name": "stderr",
     "output_type": "stream",
     "text": [
      "Epoch 102/200: 100%|██████████| 20/20 [00:35<00:00,  1.76s/it, loss=2.15, lr=0.000336]\n"
     ]
    },
    {
     "name": "stdout",
     "output_type": "stream",
     "text": [
      "Accuracy: 69.58%, Accuracy(Top5): 89.84%\n",
      "Epoch 102/200, Loss: 1.6965164840221405\n"
     ]
    },
    {
     "name": "stderr",
     "output_type": "stream",
     "text": [
      "Epoch 103/200: 100%|██████████| 20/20 [00:34<00:00,  1.74s/it, loss=2.3, lr=0.000331]  \n"
     ]
    },
    {
     "name": "stdout",
     "output_type": "stream",
     "text": [
      "Accuracy: 69.22%, Accuracy(Top5): 89.92%\n",
      "Epoch 103/200, Loss: 1.6565109118819237\n"
     ]
    },
    {
     "name": "stderr",
     "output_type": "stream",
     "text": [
      "Epoch 104/200: 100%|██████████| 20/20 [00:35<00:00,  1.76s/it, loss=1.42, lr=0.000326] \n"
     ]
    },
    {
     "name": "stdout",
     "output_type": "stream",
     "text": [
      "Accuracy: 69.31%, Accuracy(Top5): 89.89%\n",
      "Epoch 104/200, Loss: 1.500833234190941\n"
     ]
    },
    {
     "name": "stderr",
     "output_type": "stream",
     "text": [
      "Epoch 105/200: 100%|██████████| 20/20 [00:35<00:00,  1.76s/it, loss=2.14, lr=0.000321] \n"
     ]
    },
    {
     "name": "stdout",
     "output_type": "stream",
     "text": [
      "Accuracy: 70.00%, Accuracy(Top5): 90.11%\n",
      "Epoch 105/200, Loss: 1.5031294718384742\n"
     ]
    },
    {
     "name": "stderr",
     "output_type": "stream",
     "text": [
      "Epoch 106/200: 100%|██████████| 20/20 [00:35<00:00,  1.77s/it, loss=1.28, lr=0.000316]\n"
     ]
    },
    {
     "name": "stdout",
     "output_type": "stream",
     "text": [
      "Accuracy: 68.68%, Accuracy(Top5): 88.90%\n",
      "Epoch 106/200, Loss: 1.6717599779367447\n"
     ]
    },
    {
     "name": "stderr",
     "output_type": "stream",
     "text": [
      "Epoch 107/200: 100%|██████████| 20/20 [00:35<00:00,  1.76s/it, loss=1.12, lr=0.000311] \n"
     ]
    },
    {
     "name": "stdout",
     "output_type": "stream",
     "text": [
      "Accuracy: 70.20%, Accuracy(Top5): 90.30%\n",
      "Epoch 107/200, Loss: 1.5206394478678704\n"
     ]
    },
    {
     "name": "stderr",
     "output_type": "stream",
     "text": [
      "Epoch 108/200: 100%|██████████| 20/20 [00:35<00:00,  1.75s/it, loss=1.71, lr=0.000307] \n"
     ]
    },
    {
     "name": "stdout",
     "output_type": "stream",
     "text": [
      "Accuracy: 70.71%, Accuracy(Top5): 90.46%\n",
      "Epoch 108/200, Loss: 1.6317030310630798\n"
     ]
    },
    {
     "name": "stderr",
     "output_type": "stream",
     "text": [
      "Epoch 109/200: 100%|██████████| 20/20 [00:35<00:00,  1.76s/it, loss=0.986, lr=0.000302]\n"
     ]
    },
    {
     "name": "stdout",
     "output_type": "stream",
     "text": [
      "Accuracy: 69.60%, Accuracy(Top5): 89.86%\n",
      "Epoch 109/200, Loss: 1.682708540558815\n"
     ]
    },
    {
     "name": "stderr",
     "output_type": "stream",
     "text": [
      "Epoch 110/200: 100%|██████████| 20/20 [00:35<00:00,  1.75s/it, loss=1.73, lr=0.000297] \n"
     ]
    },
    {
     "name": "stdout",
     "output_type": "stream",
     "text": [
      "Accuracy: 69.04%, Accuracy(Top5): 89.83%\n",
      "Epoch 110/200, Loss: 1.6177291840314865\n"
     ]
    },
    {
     "name": "stderr",
     "output_type": "stream",
     "text": [
      "Epoch 111/200: 100%|██████████| 20/20 [00:35<00:00,  1.75s/it, loss=1.78, lr=0.000293]\n"
     ]
    },
    {
     "name": "stdout",
     "output_type": "stream",
     "text": [
      "Accuracy: 70.50%, Accuracy(Top5): 90.23%\n",
      "Epoch 111/200, Loss: 1.76233069896698\n"
     ]
    },
    {
     "name": "stderr",
     "output_type": "stream",
     "text": [
      "Epoch 112/200: 100%|██████████| 20/20 [00:35<00:00,  1.76s/it, loss=0.713, lr=0.000288]\n"
     ]
    },
    {
     "name": "stdout",
     "output_type": "stream",
     "text": [
      "Accuracy: 71.20%, Accuracy(Top5): 90.48%\n",
      "Epoch 112/200, Loss: 1.618417453765869\n"
     ]
    },
    {
     "name": "stderr",
     "output_type": "stream",
     "text": [
      "Epoch 113/200: 100%|██████████| 20/20 [00:35<00:00,  1.75s/it, loss=2.08, lr=0.000284] \n"
     ]
    },
    {
     "name": "stdout",
     "output_type": "stream",
     "text": [
      "Accuracy: 70.71%, Accuracy(Top5): 90.16%\n",
      "Epoch 113/200, Loss: 1.535363383591175\n"
     ]
    },
    {
     "name": "stderr",
     "output_type": "stream",
     "text": [
      "Epoch 114/200: 100%|██████████| 20/20 [00:34<00:00,  1.75s/it, loss=0.786, lr=0.00028]\n"
     ]
    },
    {
     "name": "stdout",
     "output_type": "stream",
     "text": [
      "Accuracy: 70.51%, Accuracy(Top5): 90.66%\n",
      "Epoch 114/200, Loss: 1.4286441400647163\n"
     ]
    },
    {
     "name": "stderr",
     "output_type": "stream",
     "text": [
      "Epoch 115/200: 100%|██████████| 20/20 [00:35<00:00,  1.75s/it, loss=1.77, lr=0.000275]\n"
     ]
    },
    {
     "name": "stdout",
     "output_type": "stream",
     "text": [
      "Accuracy: 70.95%, Accuracy(Top5): 90.11%\n",
      "Epoch 115/200, Loss: 1.59743262976408\n"
     ]
    },
    {
     "name": "stderr",
     "output_type": "stream",
     "text": [
      "Epoch 116/200: 100%|██████████| 20/20 [00:35<00:00,  1.76s/it, loss=1.85, lr=0.000271] \n"
     ]
    },
    {
     "name": "stdout",
     "output_type": "stream",
     "text": [
      "Accuracy: 69.70%, Accuracy(Top5): 89.31%\n",
      "Epoch 116/200, Loss: 1.511389110982418\n"
     ]
    },
    {
     "name": "stderr",
     "output_type": "stream",
     "text": [
      "Epoch 117/200: 100%|██████████| 20/20 [00:35<00:00,  1.75s/it, loss=1.31, lr=0.000267] \n"
     ]
    },
    {
     "name": "stdout",
     "output_type": "stream",
     "text": [
      "Accuracy: 70.47%, Accuracy(Top5): 90.20%\n",
      "Epoch 117/200, Loss: 1.4699427537620067\n"
     ]
    },
    {
     "name": "stderr",
     "output_type": "stream",
     "text": [
      "Epoch 118/200: 100%|██████████| 20/20 [00:35<00:00,  1.76s/it, loss=2.01, lr=0.000263] \n"
     ]
    },
    {
     "name": "stdout",
     "output_type": "stream",
     "text": [
      "Accuracy: 69.69%, Accuracy(Top5): 89.49%\n",
      "Epoch 118/200, Loss: 1.637678599357605\n"
     ]
    },
    {
     "name": "stderr",
     "output_type": "stream",
     "text": [
      "Epoch 119/200: 100%|██████████| 20/20 [00:34<00:00,  1.75s/it, loss=1.88, lr=0.000259]\n"
     ]
    },
    {
     "name": "stdout",
     "output_type": "stream",
     "text": [
      "Accuracy: 70.16%, Accuracy(Top5): 89.78%\n",
      "Epoch 119/200, Loss: 1.6828332364559173\n"
     ]
    },
    {
     "name": "stderr",
     "output_type": "stream",
     "text": [
      "Epoch 120/200: 100%|██████████| 20/20 [00:34<00:00,  1.75s/it, loss=1.9, lr=0.000255]  \n"
     ]
    },
    {
     "name": "stdout",
     "output_type": "stream",
     "text": [
      "Accuracy: 71.02%, Accuracy(Top5): 90.60%\n",
      "*****************model saved*****************\n",
      "\n",
      "Epoch 120/200, Loss: 1.4168826937675476\n"
     ]
    },
    {
     "name": "stderr",
     "output_type": "stream",
     "text": [
      "Epoch 121/200: 100%|██████████| 20/20 [00:35<00:00,  1.75s/it, loss=1.63, lr=0.000251] \n"
     ]
    },
    {
     "name": "stdout",
     "output_type": "stream",
     "text": [
      "Accuracy: 71.13%, Accuracy(Top5): 90.47%\n",
      "Epoch 121/200, Loss: 1.3286433778703213\n"
     ]
    },
    {
     "name": "stderr",
     "output_type": "stream",
     "text": [
      "Epoch 122/200: 100%|██████████| 20/20 [00:35<00:00,  1.76s/it, loss=0.25, lr=0.000247] \n"
     ]
    },
    {
     "name": "stdout",
     "output_type": "stream",
     "text": [
      "Accuracy: 70.67%, Accuracy(Top5): 90.08%\n",
      "Epoch 122/200, Loss: 1.4091511100530625\n"
     ]
    },
    {
     "name": "stderr",
     "output_type": "stream",
     "text": [
      "Epoch 123/200: 100%|██████████| 20/20 [00:34<00:00,  1.74s/it, loss=1.97, lr=0.000244] \n"
     ]
    },
    {
     "name": "stdout",
     "output_type": "stream",
     "text": [
      "Accuracy: 70.44%, Accuracy(Top5): 90.19%\n",
      "Epoch 123/200, Loss: 1.6310385704040526\n"
     ]
    },
    {
     "name": "stderr",
     "output_type": "stream",
     "text": [
      "Epoch 124/200: 100%|██████████| 20/20 [00:35<00:00,  1.76s/it, loss=2.1, lr=0.00024]  \n"
     ]
    },
    {
     "name": "stdout",
     "output_type": "stream",
     "text": [
      "Accuracy: 69.71%, Accuracy(Top5): 89.44%\n",
      "Epoch 124/200, Loss: 1.474793229997158\n"
     ]
    },
    {
     "name": "stderr",
     "output_type": "stream",
     "text": [
      "Epoch 125/200: 100%|██████████| 20/20 [00:35<00:00,  1.76s/it, loss=1.94, lr=0.000236] \n"
     ]
    },
    {
     "name": "stdout",
     "output_type": "stream",
     "text": [
      "Accuracy: 70.38%, Accuracy(Top5): 89.96%\n",
      "Epoch 125/200, Loss: 1.520552884042263\n"
     ]
    },
    {
     "name": "stderr",
     "output_type": "stream",
     "text": [
      "Epoch 126/200: 100%|██████████| 20/20 [00:34<00:00,  1.75s/it, loss=2.02, lr=0.000233] \n"
     ]
    },
    {
     "name": "stdout",
     "output_type": "stream",
     "text": [
      "Accuracy: 70.96%, Accuracy(Top5): 89.90%\n",
      "Epoch 126/200, Loss: 1.6312907814979554\n"
     ]
    },
    {
     "name": "stderr",
     "output_type": "stream",
     "text": [
      "Epoch 127/200: 100%|██████████| 20/20 [00:35<00:00,  1.75s/it, loss=1.68, lr=0.000229] \n"
     ]
    },
    {
     "name": "stdout",
     "output_type": "stream",
     "text": [
      "Accuracy: 70.80%, Accuracy(Top5): 90.29%\n",
      "Epoch 127/200, Loss: 1.3741820100694895\n"
     ]
    },
    {
     "name": "stderr",
     "output_type": "stream",
     "text": [
      "Epoch 128/200: 100%|██████████| 20/20 [00:35<00:00,  1.75s/it, loss=0.244, lr=0.000226]\n"
     ]
    },
    {
     "name": "stdout",
     "output_type": "stream",
     "text": [
      "Accuracy: 71.94%, Accuracy(Top5): 90.67%\n",
      "Epoch 128/200, Loss: 1.0328357361257077\n"
     ]
    },
    {
     "name": "stderr",
     "output_type": "stream",
     "text": [
      "Epoch 129/200: 100%|██████████| 20/20 [00:35<00:00,  1.75s/it, loss=1.52, lr=0.000222] \n"
     ]
    },
    {
     "name": "stdout",
     "output_type": "stream",
     "text": [
      "Accuracy: 70.45%, Accuracy(Top5): 90.14%\n",
      "Epoch 129/200, Loss: 1.3915649592876433\n"
     ]
    },
    {
     "name": "stderr",
     "output_type": "stream",
     "text": [
      "Epoch 130/200: 100%|██████████| 20/20 [00:34<00:00,  1.74s/it, loss=1.72, lr=0.000219] \n"
     ]
    },
    {
     "name": "stdout",
     "output_type": "stream",
     "text": [
      "Accuracy: 72.25%, Accuracy(Top5): 90.91%\n",
      "Epoch 130/200, Loss: 1.5297992773354054\n"
     ]
    },
    {
     "name": "stderr",
     "output_type": "stream",
     "text": [
      "Epoch 131/200: 100%|██████████| 20/20 [00:35<00:00,  1.75s/it, loss=1.91, lr=0.000215] \n"
     ]
    },
    {
     "name": "stdout",
     "output_type": "stream",
     "text": [
      "Accuracy: 71.70%, Accuracy(Top5): 90.85%\n",
      "Epoch 131/200, Loss: 1.2028692282736302\n"
     ]
    },
    {
     "name": "stderr",
     "output_type": "stream",
     "text": [
      "Epoch 132/200: 100%|██████████| 20/20 [00:35<00:00,  1.76s/it, loss=0.231, lr=0.000212]\n"
     ]
    },
    {
     "name": "stdout",
     "output_type": "stream",
     "text": [
      "Accuracy: 71.02%, Accuracy(Top5): 90.20%\n",
      "Epoch 132/200, Loss: 1.2916515924036502\n"
     ]
    },
    {
     "name": "stderr",
     "output_type": "stream",
     "text": [
      "Epoch 133/200: 100%|██████████| 20/20 [00:34<00:00,  1.75s/it, loss=1.56, lr=0.000209] \n"
     ]
    },
    {
     "name": "stdout",
     "output_type": "stream",
     "text": [
      "Accuracy: 71.23%, Accuracy(Top5): 90.81%\n",
      "Epoch 133/200, Loss: 1.626118166744709\n"
     ]
    },
    {
     "name": "stderr",
     "output_type": "stream",
     "text": [
      "Epoch 134/200: 100%|██████████| 20/20 [00:34<00:00,  1.75s/it, loss=1.96, lr=0.000206] \n"
     ]
    },
    {
     "name": "stdout",
     "output_type": "stream",
     "text": [
      "Accuracy: 71.36%, Accuracy(Top5): 90.56%\n",
      "Epoch 134/200, Loss: 1.3565022855997086\n"
     ]
    },
    {
     "name": "stderr",
     "output_type": "stream",
     "text": [
      "Epoch 135/200: 100%|██████████| 20/20 [00:35<00:00,  1.75s/it, loss=1.37, lr=0.000203] \n"
     ]
    },
    {
     "name": "stdout",
     "output_type": "stream",
     "text": [
      "Accuracy: 71.13%, Accuracy(Top5): 90.71%\n",
      "Epoch 135/200, Loss: 1.4320561107248069\n"
     ]
    },
    {
     "name": "stderr",
     "output_type": "stream",
     "text": [
      "Epoch 136/200: 100%|██████████| 20/20 [00:34<00:00,  1.75s/it, loss=0.609, lr=0.0002]\n"
     ]
    },
    {
     "name": "stdout",
     "output_type": "stream",
     "text": [
      "Accuracy: 71.20%, Accuracy(Top5): 90.52%\n",
      "Epoch 136/200, Loss: 1.4982993125915527\n"
     ]
    },
    {
     "name": "stderr",
     "output_type": "stream",
     "text": [
      "Epoch 137/200: 100%|██████████| 20/20 [00:35<00:00,  1.75s/it, loss=0.94, lr=0.000196]\n"
     ]
    },
    {
     "name": "stdout",
     "output_type": "stream",
     "text": [
      "Accuracy: 70.97%, Accuracy(Top5): 90.20%\n",
      "Epoch 137/200, Loss: 1.6384380877017974\n"
     ]
    },
    {
     "name": "stderr",
     "output_type": "stream",
     "text": [
      "Epoch 138/200: 100%|██████████| 20/20 [00:34<00:00,  1.75s/it, loss=1.59, lr=0.000193]\n"
     ]
    },
    {
     "name": "stdout",
     "output_type": "stream",
     "text": [
      "Accuracy: 71.65%, Accuracy(Top5): 90.41%\n",
      "Epoch 138/200, Loss: 1.3788355827331542\n"
     ]
    },
    {
     "name": "stderr",
     "output_type": "stream",
     "text": [
      "Epoch 139/200: 100%|██████████| 20/20 [00:34<00:00,  1.75s/it, loss=1.89, lr=0.000191] \n"
     ]
    },
    {
     "name": "stdout",
     "output_type": "stream",
     "text": [
      "Accuracy: 71.33%, Accuracy(Top5): 90.38%\n",
      "Epoch 139/200, Loss: 1.4671054780483246\n"
     ]
    },
    {
     "name": "stderr",
     "output_type": "stream",
     "text": [
      "Epoch 140/200: 100%|██████████| 20/20 [00:34<00:00,  1.75s/it, loss=1.91, lr=0.000188] \n"
     ]
    },
    {
     "name": "stdout",
     "output_type": "stream",
     "text": [
      "Accuracy: 70.57%, Accuracy(Top5): 89.99%\n",
      "*****************model saved*****************\n",
      "\n",
      "Epoch 140/200, Loss: 1.3814869672060013\n"
     ]
    },
    {
     "name": "stderr",
     "output_type": "stream",
     "text": [
      "Epoch 141/200: 100%|██████████| 20/20 [00:34<00:00,  1.75s/it, loss=1.78, lr=0.000185] \n"
     ]
    },
    {
     "name": "stdout",
     "output_type": "stream",
     "text": [
      "Accuracy: 71.23%, Accuracy(Top5): 89.92%\n",
      "Epoch 141/200, Loss: 1.4015131697058678\n"
     ]
    },
    {
     "name": "stderr",
     "output_type": "stream",
     "text": [
      "Epoch 142/200: 100%|██████████| 20/20 [00:34<00:00,  1.75s/it, loss=1.85, lr=0.000182] \n"
     ]
    },
    {
     "name": "stdout",
     "output_type": "stream",
     "text": [
      "Accuracy: 71.27%, Accuracy(Top5): 90.28%\n",
      "Epoch 142/200, Loss: 1.3418348759412766\n"
     ]
    },
    {
     "name": "stderr",
     "output_type": "stream",
     "text": [
      "Epoch 143/200: 100%|██████████| 20/20 [00:34<00:00,  1.74s/it, loss=1.13, lr=0.000179]\n"
     ]
    },
    {
     "name": "stdout",
     "output_type": "stream",
     "text": [
      "Accuracy: 71.60%, Accuracy(Top5): 90.18%\n",
      "Epoch 143/200, Loss: 1.41506387591362\n"
     ]
    },
    {
     "name": "stderr",
     "output_type": "stream",
     "text": [
      "Epoch 144/200: 100%|██████████| 20/20 [00:34<00:00,  1.75s/it, loss=1.62, lr=0.000176] \n"
     ]
    },
    {
     "name": "stdout",
     "output_type": "stream",
     "text": [
      "Accuracy: 71.01%, Accuracy(Top5): 89.44%\n",
      "Epoch 144/200, Loss: 1.1108338095247745\n"
     ]
    },
    {
     "name": "stderr",
     "output_type": "stream",
     "text": [
      "Epoch 145/200: 100%|██████████| 20/20 [00:35<00:00,  1.75s/it, loss=1.44, lr=0.000174] \n"
     ]
    },
    {
     "name": "stdout",
     "output_type": "stream",
     "text": [
      "Accuracy: 72.33%, Accuracy(Top5): 90.44%\n",
      "Epoch 145/200, Loss: 1.4494006410241127\n"
     ]
    },
    {
     "name": "stderr",
     "output_type": "stream",
     "text": [
      "Epoch 146/200: 100%|██████████| 20/20 [00:35<00:00,  1.76s/it, loss=1.46, lr=0.000171] \n"
     ]
    },
    {
     "name": "stdout",
     "output_type": "stream",
     "text": [
      "Accuracy: 72.61%, Accuracy(Top5): 90.87%\n",
      "Epoch 146/200, Loss: 1.3171209506690502\n"
     ]
    },
    {
     "name": "stderr",
     "output_type": "stream",
     "text": [
      "Epoch 147/200: 100%|██████████| 20/20 [00:35<00:00,  1.75s/it, loss=1.65, lr=0.000169] \n"
     ]
    },
    {
     "name": "stdout",
     "output_type": "stream",
     "text": [
      "Accuracy: 72.16%, Accuracy(Top5): 91.03%\n",
      "Epoch 147/200, Loss: 1.420480528473854\n"
     ]
    },
    {
     "name": "stderr",
     "output_type": "stream",
     "text": [
      "Epoch 148/200: 100%|██████████| 20/20 [00:34<00:00,  1.75s/it, loss=1.76, lr=0.000166] \n"
     ]
    },
    {
     "name": "stdout",
     "output_type": "stream",
     "text": [
      "Accuracy: 70.86%, Accuracy(Top5): 89.90%\n",
      "Epoch 148/200, Loss: 1.1459620863199234\n"
     ]
    },
    {
     "name": "stderr",
     "output_type": "stream",
     "text": [
      "Epoch 149/200: 100%|██████████| 20/20 [00:34<00:00,  1.75s/it, loss=1.69, lr=0.000163] \n"
     ]
    },
    {
     "name": "stdout",
     "output_type": "stream",
     "text": [
      "Accuracy: 71.68%, Accuracy(Top5): 90.49%\n",
      "Epoch 149/200, Loss: 1.4240498065948486\n"
     ]
    },
    {
     "name": "stderr",
     "output_type": "stream",
     "text": [
      "Epoch 150/200: 100%|██████████| 20/20 [00:34<00:00,  1.74s/it, loss=1.13, lr=0.000161] \n"
     ]
    },
    {
     "name": "stdout",
     "output_type": "stream",
     "text": [
      "Accuracy: 71.60%, Accuracy(Top5): 90.14%\n",
      "Epoch 150/200, Loss: 1.1416269093751907\n"
     ]
    },
    {
     "name": "stderr",
     "output_type": "stream",
     "text": [
      "Epoch 151/200: 100%|██████████| 20/20 [00:34<00:00,  1.74s/it, loss=2.03, lr=0.000158] \n"
     ]
    },
    {
     "name": "stdout",
     "output_type": "stream",
     "text": [
      "Accuracy: 72.69%, Accuracy(Top5): 90.36%\n",
      "Epoch 151/200, Loss: 1.3120597943663597\n"
     ]
    },
    {
     "name": "stderr",
     "output_type": "stream",
     "text": [
      "Epoch 152/200: 100%|██████████| 20/20 [00:34<00:00,  1.74s/it, loss=1.59, lr=0.000156] \n"
     ]
    },
    {
     "name": "stdout",
     "output_type": "stream",
     "text": [
      "Accuracy: 72.51%, Accuracy(Top5): 90.71%\n",
      "Epoch 152/200, Loss: 1.4510507851839065\n"
     ]
    },
    {
     "name": "stderr",
     "output_type": "stream",
     "text": [
      "Epoch 153/200: 100%|██████████| 20/20 [00:34<00:00,  1.74s/it, loss=1.76, lr=0.000154] \n"
     ]
    },
    {
     "name": "stdout",
     "output_type": "stream",
     "text": [
      "Accuracy: 72.50%, Accuracy(Top5): 91.04%\n",
      "Epoch 153/200, Loss: 1.0459049724042415\n"
     ]
    },
    {
     "name": "stderr",
     "output_type": "stream",
     "text": [
      "Epoch 154/200: 100%|██████████| 20/20 [00:34<00:00,  1.74s/it, loss=1.67, lr=0.000151]  \n"
     ]
    },
    {
     "name": "stdout",
     "output_type": "stream",
     "text": [
      "Accuracy: 71.98%, Accuracy(Top5): 90.46%\n",
      "Epoch 154/200, Loss: 1.3657052610069513\n"
     ]
    },
    {
     "name": "stderr",
     "output_type": "stream",
     "text": [
      "Epoch 155/200: 100%|██████████| 20/20 [00:34<00:00,  1.75s/it, loss=1.44, lr=0.000149] \n"
     ]
    },
    {
     "name": "stdout",
     "output_type": "stream",
     "text": [
      "Accuracy: 71.63%, Accuracy(Top5): 90.36%\n",
      "Epoch 155/200, Loss: 1.3904353074729443\n"
     ]
    },
    {
     "name": "stderr",
     "output_type": "stream",
     "text": [
      "Epoch 156/200: 100%|██████████| 20/20 [00:34<00:00,  1.74s/it, loss=0.397, lr=0.000147]\n"
     ]
    },
    {
     "name": "stdout",
     "output_type": "stream",
     "text": [
      "Accuracy: 71.93%, Accuracy(Top5): 90.56%\n",
      "Epoch 156/200, Loss: 1.2511904634535314\n"
     ]
    },
    {
     "name": "stderr",
     "output_type": "stream",
     "text": [
      "Epoch 157/200: 100%|██████████| 20/20 [00:34<00:00,  1.74s/it, loss=1.24, lr=0.000145] \n"
     ]
    },
    {
     "name": "stdout",
     "output_type": "stream",
     "text": [
      "Accuracy: 72.51%, Accuracy(Top5): 90.47%\n",
      "Epoch 157/200, Loss: 1.234490169212222\n"
     ]
    },
    {
     "name": "stderr",
     "output_type": "stream",
     "text": [
      "Epoch 158/200: 100%|██████████| 20/20 [00:35<00:00,  1.75s/it, loss=1.17, lr=0.000142] \n"
     ]
    },
    {
     "name": "stdout",
     "output_type": "stream",
     "text": [
      "Accuracy: 72.55%, Accuracy(Top5): 90.91%\n",
      "Epoch 158/200, Loss: 1.36497171074152\n"
     ]
    },
    {
     "name": "stderr",
     "output_type": "stream",
     "text": [
      "Epoch 159/200: 100%|██████████| 20/20 [00:34<00:00,  1.74s/it, loss=0.827, lr=0.00014] \n"
     ]
    },
    {
     "name": "stdout",
     "output_type": "stream",
     "text": [
      "Accuracy: 72.64%, Accuracy(Top5): 90.83%\n",
      "Epoch 159/200, Loss: 1.4265455272048713\n"
     ]
    },
    {
     "name": "stderr",
     "output_type": "stream",
     "text": [
      "Epoch 160/200: 100%|██████████| 20/20 [00:34<00:00,  1.75s/it, loss=1.23, lr=0.000138] \n"
     ]
    },
    {
     "name": "stdout",
     "output_type": "stream",
     "text": [
      "Accuracy: 71.96%, Accuracy(Top5): 90.63%\n",
      "*****************model saved*****************\n",
      "\n",
      "Epoch 160/200, Loss: 1.3523079216480256\n"
     ]
    },
    {
     "name": "stderr",
     "output_type": "stream",
     "text": [
      "Epoch 161/200: 100%|██████████| 20/20 [00:34<00:00,  1.75s/it, loss=2, lr=0.000136]    \n"
     ]
    },
    {
     "name": "stdout",
     "output_type": "stream",
     "text": [
      "Accuracy: 71.99%, Accuracy(Top5): 90.43%\n",
      "Epoch 161/200, Loss: 1.191156303882599\n"
     ]
    },
    {
     "name": "stderr",
     "output_type": "stream",
     "text": [
      "Epoch 162/200: 100%|██████████| 20/20 [00:35<00:00,  1.76s/it, loss=1.96, lr=0.000134] \n"
     ]
    },
    {
     "name": "stdout",
     "output_type": "stream",
     "text": [
      "Accuracy: 72.31%, Accuracy(Top5): 90.30%\n",
      "Epoch 162/200, Loss: 1.2963500417768956\n"
     ]
    },
    {
     "name": "stderr",
     "output_type": "stream",
     "text": [
      "Epoch 163/200: 100%|██████████| 20/20 [00:34<00:00,  1.74s/it, loss=1.58, lr=0.000132] \n"
     ]
    },
    {
     "name": "stdout",
     "output_type": "stream",
     "text": [
      "Accuracy: 71.46%, Accuracy(Top5): 90.37%\n",
      "Epoch 163/200, Loss: 1.4803149446845054\n"
     ]
    },
    {
     "name": "stderr",
     "output_type": "stream",
     "text": [
      "Epoch 164/200: 100%|██████████| 20/20 [00:34<00:00,  1.74s/it, loss=0.528, lr=0.00013]\n"
     ]
    },
    {
     "name": "stdout",
     "output_type": "stream",
     "text": [
      "Accuracy: 72.24%, Accuracy(Top5): 90.86%\n",
      "Epoch 164/200, Loss: 1.1670312516391277\n"
     ]
    },
    {
     "name": "stderr",
     "output_type": "stream",
     "text": [
      "Epoch 165/200: 100%|██████████| 20/20 [00:34<00:00,  1.74s/it, loss=1.44, lr=0.000128]  \n"
     ]
    },
    {
     "name": "stdout",
     "output_type": "stream",
     "text": [
      "Accuracy: 72.88%, Accuracy(Top5): 90.95%\n",
      "Epoch 165/200, Loss: 1.034257167764008\n"
     ]
    },
    {
     "name": "stderr",
     "output_type": "stream",
     "text": [
      "Epoch 166/200: 100%|██████████| 20/20 [00:34<00:00,  1.75s/it, loss=1.47, lr=0.000126] \n"
     ]
    },
    {
     "name": "stdout",
     "output_type": "stream",
     "text": [
      "Accuracy: 72.38%, Accuracy(Top5): 90.81%\n",
      "Epoch 166/200, Loss: 1.3545107007026673\n"
     ]
    },
    {
     "name": "stderr",
     "output_type": "stream",
     "text": [
      "Epoch 167/200: 100%|██████████| 20/20 [00:35<00:00,  1.75s/it, loss=1.34, lr=0.000124] \n"
     ]
    },
    {
     "name": "stdout",
     "output_type": "stream",
     "text": [
      "Accuracy: 72.89%, Accuracy(Top5): 91.07%\n",
      "Epoch 167/200, Loss: 1.390729857981205\n"
     ]
    },
    {
     "name": "stderr",
     "output_type": "stream",
     "text": [
      "Epoch 168/200: 100%|██████████| 20/20 [00:34<00:00,  1.74s/it, loss=1.64, lr=0.000122] \n"
     ]
    },
    {
     "name": "stdout",
     "output_type": "stream",
     "text": [
      "Accuracy: 72.42%, Accuracy(Top5): 90.77%\n",
      "Epoch 168/200, Loss: 1.433095607161522\n"
     ]
    },
    {
     "name": "stderr",
     "output_type": "stream",
     "text": [
      "Epoch 169/200: 100%|██████████| 20/20 [00:35<00:00,  1.76s/it, loss=1.47, lr=0.00012] \n"
     ]
    },
    {
     "name": "stdout",
     "output_type": "stream",
     "text": [
      "Accuracy: 71.92%, Accuracy(Top5): 90.97%\n",
      "Epoch 169/200, Loss: 1.5091096103191375\n"
     ]
    },
    {
     "name": "stderr",
     "output_type": "stream",
     "text": [
      "Epoch 170/200: 100%|██████████| 20/20 [00:35<00:00,  1.76s/it, loss=1.35, lr=0.000118] \n"
     ]
    },
    {
     "name": "stdout",
     "output_type": "stream",
     "text": [
      "Accuracy: 72.23%, Accuracy(Top5): 90.48%\n",
      "Epoch 170/200, Loss: 1.2553022503852844\n"
     ]
    },
    {
     "name": "stderr",
     "output_type": "stream",
     "text": [
      "Epoch 171/200: 100%|██████████| 20/20 [00:35<00:00,  1.75s/it, loss=1.32, lr=0.000117] \n"
     ]
    },
    {
     "name": "stdout",
     "output_type": "stream",
     "text": [
      "Accuracy: 71.76%, Accuracy(Top5): 90.57%\n",
      "Epoch 171/200, Loss: 1.2951974466443061\n"
     ]
    },
    {
     "name": "stderr",
     "output_type": "stream",
     "text": [
      "Epoch 172/200: 100%|██████████| 20/20 [00:34<00:00,  1.75s/it, loss=1.7, lr=0.000115]  \n"
     ]
    },
    {
     "name": "stdout",
     "output_type": "stream",
     "text": [
      "Accuracy: 72.54%, Accuracy(Top5): 91.01%\n",
      "Epoch 172/200, Loss: 1.2560632646083831\n"
     ]
    },
    {
     "name": "stderr",
     "output_type": "stream",
     "text": [
      "Epoch 173/200: 100%|██████████| 20/20 [00:34<00:00,  1.75s/it, loss=1.21, lr=0.000113] \n"
     ]
    },
    {
     "name": "stdout",
     "output_type": "stream",
     "text": [
      "Accuracy: 72.02%, Accuracy(Top5): 90.76%\n",
      "Epoch 173/200, Loss: 1.3369391873478889\n"
     ]
    },
    {
     "name": "stderr",
     "output_type": "stream",
     "text": [
      "Epoch 174/200: 100%|██████████| 20/20 [00:34<00:00,  1.74s/it, loss=1.65, lr=0.000111] \n"
     ]
    },
    {
     "name": "stdout",
     "output_type": "stream",
     "text": [
      "Accuracy: 72.64%, Accuracy(Top5): 90.70%\n",
      "Epoch 174/200, Loss: 1.3910842522978784\n"
     ]
    },
    {
     "name": "stderr",
     "output_type": "stream",
     "text": [
      "Epoch 175/200: 100%|██████████| 20/20 [00:35<00:00,  1.75s/it, loss=0.892, lr=0.00011]\n"
     ]
    },
    {
     "name": "stdout",
     "output_type": "stream",
     "text": [
      "Accuracy: 73.03%, Accuracy(Top5): 90.92%\n",
      "Epoch 175/200, Loss: 1.2875730991363525\n"
     ]
    },
    {
     "name": "stderr",
     "output_type": "stream",
     "text": [
      "Epoch 176/200: 100%|██████████| 20/20 [00:35<00:00,  1.75s/it, loss=1.63, lr=0.000108] \n"
     ]
    },
    {
     "name": "stdout",
     "output_type": "stream",
     "text": [
      "Accuracy: 71.55%, Accuracy(Top5): 90.45%\n",
      "Epoch 176/200, Loss: 1.2286128252744675\n"
     ]
    },
    {
     "name": "stderr",
     "output_type": "stream",
     "text": [
      "Epoch 177/200: 100%|██████████| 20/20 [00:35<00:00,  1.76s/it, loss=1.19, lr=0.000106] \n"
     ]
    },
    {
     "name": "stdout",
     "output_type": "stream",
     "text": [
      "Accuracy: 72.52%, Accuracy(Top5): 91.03%\n",
      "Epoch 177/200, Loss: 1.1390323750674725\n"
     ]
    },
    {
     "name": "stderr",
     "output_type": "stream",
     "text": [
      "Epoch 178/200: 100%|██████████| 20/20 [00:35<00:00,  1.76s/it, loss=1.6, lr=0.000105]  \n"
     ]
    },
    {
     "name": "stdout",
     "output_type": "stream",
     "text": [
      "Accuracy: 72.66%, Accuracy(Top5): 90.88%\n",
      "Epoch 178/200, Loss: 1.2029323674738408\n"
     ]
    },
    {
     "name": "stderr",
     "output_type": "stream",
     "text": [
      "Epoch 179/200: 100%|██████████| 20/20 [00:35<00:00,  1.75s/it, loss=1.19, lr=0.000103] \n"
     ]
    },
    {
     "name": "stdout",
     "output_type": "stream",
     "text": [
      "Accuracy: 72.94%, Accuracy(Top5): 91.13%\n",
      "Epoch 179/200, Loss: 1.2007524413987993\n"
     ]
    },
    {
     "name": "stderr",
     "output_type": "stream",
     "text": [
      "Epoch 180/200: 100%|██████████| 20/20 [00:35<00:00,  1.75s/it, loss=1.62, lr=0.000102] \n"
     ]
    },
    {
     "name": "stdout",
     "output_type": "stream",
     "text": [
      "Accuracy: 72.34%, Accuracy(Top5): 90.96%\n",
      "*****************model saved*****************\n",
      "\n",
      "Epoch 180/200, Loss: 1.2496191836893558\n"
     ]
    },
    {
     "name": "stderr",
     "output_type": "stream",
     "text": [
      "Epoch 181/200: 100%|██████████| 20/20 [00:35<00:00,  1.75s/it, loss=1.11, lr=0.0001] \n"
     ]
    },
    {
     "name": "stdout",
     "output_type": "stream",
     "text": [
      "Accuracy: 72.33%, Accuracy(Top5): 90.74%\n",
      "Epoch 181/200, Loss: 1.2183587282896042\n"
     ]
    },
    {
     "name": "stderr",
     "output_type": "stream",
     "text": [
      "Epoch 182/200: 100%|██████████| 20/20 [00:35<00:00,  1.75s/it, loss=1.2, lr=9.85e-5]  \n"
     ]
    },
    {
     "name": "stdout",
     "output_type": "stream",
     "text": [
      "Accuracy: 72.84%, Accuracy(Top5): 90.93%\n",
      "Epoch 182/200, Loss: 1.2340264707803725\n"
     ]
    },
    {
     "name": "stderr",
     "output_type": "stream",
     "text": [
      "Epoch 183/200: 100%|██████████| 20/20 [00:34<00:00,  1.74s/it, loss=1.12, lr=9.7e-5] \n"
     ]
    },
    {
     "name": "stdout",
     "output_type": "stream",
     "text": [
      "Accuracy: 71.53%, Accuracy(Top5): 90.69%\n",
      "Epoch 183/200, Loss: 1.1565944261848926\n"
     ]
    },
    {
     "name": "stderr",
     "output_type": "stream",
     "text": [
      "Epoch 184/200: 100%|██████████| 20/20 [00:34<00:00,  1.75s/it, loss=1.18, lr=9.55e-5]  \n"
     ]
    },
    {
     "name": "stdout",
     "output_type": "stream",
     "text": [
      "Accuracy: 72.83%, Accuracy(Top5): 91.12%\n",
      "Epoch 184/200, Loss: 1.166786722652614\n"
     ]
    },
    {
     "name": "stderr",
     "output_type": "stream",
     "text": [
      "Epoch 185/200: 100%|██████████| 20/20 [00:35<00:00,  1.78s/it, loss=1.59, lr=9.4e-5] \n"
     ]
    },
    {
     "name": "stdout",
     "output_type": "stream",
     "text": [
      "Accuracy: 72.50%, Accuracy(Top5): 90.85%\n",
      "Epoch 185/200, Loss: 1.3990581654012204\n"
     ]
    },
    {
     "name": "stderr",
     "output_type": "stream",
     "text": [
      "Epoch 186/200: 100%|██████████| 20/20 [00:35<00:00,  1.77s/it, loss=1.21, lr=9.26e-5] \n"
     ]
    },
    {
     "name": "stdout",
     "output_type": "stream",
     "text": [
      "Accuracy: 72.54%, Accuracy(Top5): 90.58%\n",
      "Epoch 186/200, Loss: 1.1944621086120606\n"
     ]
    },
    {
     "name": "stderr",
     "output_type": "stream",
     "text": [
      "Epoch 187/200: 100%|██████████| 20/20 [00:34<00:00,  1.75s/it, loss=0.91, lr=9.12e-5] \n"
     ]
    },
    {
     "name": "stdout",
     "output_type": "stream",
     "text": [
      "Accuracy: 72.37%, Accuracy(Top5): 90.86%\n",
      "Epoch 187/200, Loss: 1.1681544087827205\n"
     ]
    },
    {
     "name": "stderr",
     "output_type": "stream",
     "text": [
      "Epoch 188/200: 100%|██████████| 20/20 [00:34<00:00,  1.74s/it, loss=0.982, lr=8.98e-5]\n"
     ]
    },
    {
     "name": "stdout",
     "output_type": "stream",
     "text": [
      "Accuracy: 72.51%, Accuracy(Top5): 90.77%\n",
      "Epoch 188/200, Loss: 1.2658453159034253\n"
     ]
    },
    {
     "name": "stderr",
     "output_type": "stream",
     "text": [
      "Epoch 189/200: 100%|██████████| 20/20 [00:35<00:00,  1.75s/it, loss=1.35, lr=8.84e-5] \n"
     ]
    },
    {
     "name": "stdout",
     "output_type": "stream",
     "text": [
      "Accuracy: 73.19%, Accuracy(Top5): 90.80%\n",
      "Epoch 189/200, Loss: 1.1479321574792265\n"
     ]
    },
    {
     "name": "stderr",
     "output_type": "stream",
     "text": [
      "Epoch 190/200: 100%|██████████| 20/20 [00:35<00:00,  1.76s/it, loss=0.453, lr=8.71e-5]\n"
     ]
    },
    {
     "name": "stdout",
     "output_type": "stream",
     "text": [
      "Accuracy: 72.88%, Accuracy(Top5): 91.02%\n",
      "Epoch 190/200, Loss: 1.244476744532585\n"
     ]
    },
    {
     "name": "stderr",
     "output_type": "stream",
     "text": [
      "Epoch 191/200: 100%|██████████| 20/20 [00:35<00:00,  1.76s/it, loss=1.47, lr=8.58e-5] \n"
     ]
    },
    {
     "name": "stdout",
     "output_type": "stream",
     "text": [
      "Accuracy: 72.63%, Accuracy(Top5): 90.82%\n",
      "Epoch 191/200, Loss: 1.2573869161307811\n"
     ]
    },
    {
     "name": "stderr",
     "output_type": "stream",
     "text": [
      "Epoch 192/200: 100%|██████████| 20/20 [00:35<00:00,  1.76s/it, loss=0.6, lr=8.45e-5]   \n"
     ]
    },
    {
     "name": "stdout",
     "output_type": "stream",
     "text": [
      "Accuracy: 72.28%, Accuracy(Top5): 90.94%\n",
      "Epoch 192/200, Loss: 1.1280415393412113\n"
     ]
    },
    {
     "name": "stderr",
     "output_type": "stream",
     "text": [
      "Epoch 193/200: 100%|██████████| 20/20 [00:34<00:00,  1.75s/it, loss=0.688, lr=8.32e-5]\n"
     ]
    },
    {
     "name": "stdout",
     "output_type": "stream",
     "text": [
      "Accuracy: 72.58%, Accuracy(Top5): 90.73%\n",
      "Epoch 193/200, Loss: 1.139607374370098\n"
     ]
    },
    {
     "name": "stderr",
     "output_type": "stream",
     "text": [
      "Epoch 194/200: 100%|██████████| 20/20 [00:34<00:00,  1.75s/it, loss=1.75, lr=8.19e-5] \n"
     ]
    },
    {
     "name": "stdout",
     "output_type": "stream",
     "text": [
      "Accuracy: 73.16%, Accuracy(Top5): 90.96%\n",
      "Epoch 194/200, Loss: 1.2278170213103294\n"
     ]
    },
    {
     "name": "stderr",
     "output_type": "stream",
     "text": [
      "Epoch 195/200: 100%|██████████| 20/20 [00:35<00:00,  1.75s/it, loss=0.92, lr=8.07e-5] \n"
     ]
    },
    {
     "name": "stdout",
     "output_type": "stream",
     "text": [
      "Accuracy: 72.95%, Accuracy(Top5): 90.84%\n",
      "Epoch 195/200, Loss: 1.1525733679533006\n"
     ]
    },
    {
     "name": "stderr",
     "output_type": "stream",
     "text": [
      "Epoch 196/200: 100%|██████████| 20/20 [00:35<00:00,  1.75s/it, loss=0.781, lr=7.94e-5] \n"
     ]
    },
    {
     "name": "stdout",
     "output_type": "stream",
     "text": [
      "Accuracy: 73.20%, Accuracy(Top5): 90.78%\n",
      "Epoch 196/200, Loss: 1.1257361941039563\n"
     ]
    },
    {
     "name": "stderr",
     "output_type": "stream",
     "text": [
      "Epoch 197/200: 100%|██████████| 20/20 [00:34<00:00,  1.75s/it, loss=1.35, lr=7.82e-5]\n"
     ]
    },
    {
     "name": "stdout",
     "output_type": "stream",
     "text": [
      "Accuracy: 72.91%, Accuracy(Top5): 90.85%\n",
      "Epoch 197/200, Loss: 1.362950323522091\n"
     ]
    },
    {
     "name": "stderr",
     "output_type": "stream",
     "text": [
      "Epoch 198/200: 100%|██████████| 20/20 [00:35<00:00,  1.76s/it, loss=1.47, lr=7.7e-5] \n"
     ]
    },
    {
     "name": "stdout",
     "output_type": "stream",
     "text": [
      "Accuracy: 72.70%, Accuracy(Top5): 90.81%\n",
      "Epoch 198/200, Loss: 1.2365116775035858\n"
     ]
    },
    {
     "name": "stderr",
     "output_type": "stream",
     "text": [
      "Epoch 199/200: 100%|██████████| 20/20 [00:35<00:00,  1.75s/it, loss=1.6, lr=7.59e-5]  \n"
     ]
    },
    {
     "name": "stdout",
     "output_type": "stream",
     "text": [
      "Accuracy: 72.68%, Accuracy(Top5): 91.07%\n",
      "Epoch 199/200, Loss: 1.0681613951921463\n"
     ]
    },
    {
     "name": "stderr",
     "output_type": "stream",
     "text": [
      "Epoch 200/200: 100%|██████████| 20/20 [00:34<00:00,  1.75s/it, loss=1.25, lr=7.47e-5] \n"
     ]
    },
    {
     "name": "stdout",
     "output_type": "stream",
     "text": [
      "Accuracy: 72.74%, Accuracy(Top5): 90.91%\n",
      "*****************model saved*****************\n",
      "\n",
      "Epoch 200/200, Loss: 1.1590904667973518\n"
     ]
    }
   ],
   "source": [
    "# Load and train the model\n",
    "\n",
    "# **********************\n",
    "# checkpoint = torch.load('weights/ViT/epoch1.pth', map_location=device)\n",
    "# model.load_state_dict(checkpoint['model_state_dict'])\n",
    "# optimizer.load_state_dict(checkpoint['optimizer_state_dict'])\n",
    "# scheduler.load_state_dict(checkpoint['scheduler1_state_dict'])\n",
    "# start_epoch = checkpoint['epoch'] + 1\n",
    "#************************\n",
    "\n",
    "train_model(model, trainloader, criterion, optimizer, schedulers = [scheduler], num_epochs=num_epochs, start_epoch=0)"
   ]
  }
 ],
 "metadata": {
  "kernelspec": {
   "display_name": "base",
   "language": "python",
   "name": "python3"
  },
  "language_info": {
   "codemirror_mode": {
    "name": "ipython",
    "version": 3
   },
   "file_extension": ".py",
   "mimetype": "text/x-python",
   "name": "python",
   "nbconvert_exporter": "python",
   "pygments_lexer": "ipython3",
   "version": "3.10.14"
  }
 },
 "nbformat": 4,
 "nbformat_minor": 2
}
